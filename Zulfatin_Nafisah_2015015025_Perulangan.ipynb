{
  "nbformat": 4,
  "nbformat_minor": 0,
  "metadata": {
    "colab": {
      "name": "Zulfatin Nafisah_2015015025_Perulangan.ipynb",
      "provenance": [],
      "collapsed_sections": [],
      "authorship_tag": "ABX9TyPWO0mOdgfE/IGzI3+r9ry9",
      "include_colab_link": true
    },
    "kernelspec": {
      "name": "python3",
      "display_name": "Python 3"
    },
    "language_info": {
      "name": "python"
    }
  },
  "cells": [
    {
      "cell_type": "markdown",
      "metadata": {
        "id": "view-in-github",
        "colab_type": "text"
      },
      "source": [
        "<a href=\"https://colab.research.google.com/github/Zulfatinnafisah/PSDS_Kelas-Mahir-/blob/main/Zulfatin_Nafisah_2015015025_Perulangan.ipynb\" target=\"_parent\"><img src=\"https://colab.research.google.com/assets/colab-badge.svg\" alt=\"Open In Colab\"/></a>"
      ]
    },
    {
      "cell_type": "markdown",
      "metadata": {
        "id": "G906lc6TNM9C"
      },
      "source": [
        "#**Pembuka**\n",
        "###Assalamu'alaikum warahmatullahi wabarakatuh. Puji syukur kehadirat Allah Subhana Wata'ala atas limpahan Rahmat dan HidayahNya kepada kita semua. Sholawat serta salam senantiasa tercurah limpahkan kepada baginda Muhammad Rasulullah Salallahualaihiwassalam.\n",
        "###Halo para **Pejuang Data**. Selamat berjumpa di pertemuan kedua Program Training **Algoritma Machine Learning** Kelas Mahir.\n",
        "###Pada pertemuan ini kamu akan belajar:\n",
        "####1. Looping/Perulangan\n",
        "####2. For Loop\n",
        "####3. While Loop\n",
        "####4. Contoh Perulangan\n",
        "####5. Latihan\n"
      ]
    },
    {
      "cell_type": "markdown",
      "metadata": {
        "id": "9ArScToQOjWb"
      },
      "source": [
        "#**Looping/Perulangan**\n",
        "###Python menyediakan dua statement untuk melakukan proses perulangan yaitu for dan while. Diantara kedua statement ini, secara umum for lebih banyak digunakan daripada while."
      ]
    },
    {
      "cell_type": "markdown",
      "metadata": {
        "id": "xPv6_tVZOpo7"
      },
      "source": [
        "#**For Loop**\n",
        "###Perulangan for digunakan untuk melakukan iterasi di dalam sequence seperti list , tuple , string, dan array atau objek yang dapat diiterasi lainnya."
      ]
    },
    {
      "cell_type": "markdown",
      "metadata": {
        "id": "OZWWNl37PFgs"
      },
      "source": [
        "###**For Loop Syntax**"
      ]
    },
    {
      "cell_type": "code",
      "metadata": {
        "id": "Af7SqPwNOz9U"
      },
      "source": [
        "for val in sequence:\n",
        " loop body"
      ],
      "execution_count": null,
      "outputs": []
    },
    {
      "cell_type": "markdown",
      "metadata": {
        "id": "8QNA80lIO38a"
      },
      "source": [
        "####Pada proses iterasi ini, val adalah variabel yang diambil dari elemen-elemen di dalam sequence untuk setiap iterasi.\n",
        "####Perulangan akan berlangsung hingga elemen terakhir dari sequence . Pada bagian body dari for loop diletakkan dalam indentasi."
      ]
    },
    {
      "cell_type": "markdown",
      "metadata": {
        "id": "-8DItlO8PBlD"
      },
      "source": [
        "###**For Loop Flowchart**"
      ]
    },
    {
      "cell_type": "markdown",
      "metadata": {
        "id": "NDVwBR-ZPSe4"
      },
      "source": [
        "###**Example: Python for Loop**"
      ]
    },
    {
      "cell_type": "code",
      "metadata": {
        "colab": {
          "base_uri": "https://localhost:8080/"
        },
        "id": "xpY9KuIUPf11",
        "outputId": "15915717-a008-4e5a-e5a7-86b905d32a75"
      },
      "source": [
        "# Program untuk menghitung jumlah semua angka dalam sebuah list\n",
        "# List angka\n",
        "list_angka = [6, 5, 3, 8, 4, 2, 5, 4, 11]\n",
        "# variabel untuk menyimpan hasil penjumlahan\n",
        "jumlahan = 0\n",
        "# iterasi di dalam list\n",
        "for angka in list_angka:\n",
        " jumlahan = jumlahan+angka\n",
        "print(\"Jumlah :\", jumlahan)"
      ],
      "execution_count": null,
      "outputs": [
        {
          "output_type": "stream",
          "name": "stdout",
          "text": [
            "Jumlah : 48\n"
          ]
        }
      ]
    },
    {
      "cell_type": "markdown",
      "metadata": {
        "id": "DUrCApyLPlCq"
      },
      "source": [
        "###**The range() function**\n",
        "####Kita dapat membuat sebuah sequence angka menggunakan fungsi range() . range(10) akan menghasilkan sequence angka dari 0 sampai 9(10 angka).\n",
        "####Kita juga dapat mendefinisikan nilai awal, nilai akhir dan step sizenya yaitu range(start, stp, step_size).Secara default step_size bernilai 1 jika tidak ditentukan secara khusus.\n",
        "####Kita dapat menggunakan fungsi range() di dalam perulangan for untuk melakukan iterasi di dalam sequence numbers. Ini dapat kita kombinasikan dengan fungsi len() untuk melakukan iterasi melalui index dari sebuah sequence . Berikut contohnya:"
      ]
    },
    {
      "cell_type": "code",
      "metadata": {
        "colab": {
          "base_uri": "https://localhost:8080/"
        },
        "id": "Qc2TasIPP50U",
        "outputId": "419ac5b9-918d-45cd-ebb6-1d87e1348fcb"
      },
      "source": [
        "# Program untuk melakukan iterasi di dalam list melalui indeks\n",
        "musik = ['dangdut', 'campursari', 'keroncong']\n",
        "# iterasi di dalam list melalui indeks\n",
        "for i in range(len(musik)):\n",
        " print(\"Aku suka\", musik[i])"
      ],
      "execution_count": null,
      "outputs": [
        {
          "output_type": "stream",
          "name": "stdout",
          "text": [
            "Aku suka dangdut\n",
            "Aku suka campursari\n",
            "Aku suka keroncong\n"
          ]
        }
      ]
    },
    {
      "cell_type": "markdown",
      "metadata": {
        "id": "x-C1ANw8QBlz"
      },
      "source": [
        "###**For Loop With Else**"
      ]
    },
    {
      "cell_type": "markdown",
      "metadata": {
        "id": "SMkZNm2mQGS4"
      },
      "source": [
        "####Sebuah for loop dapat memiliki opsi blok else . Blok else akan dijalankan jika iterasi telah selesai dilakukan dalam sebuah sequence .\n",
        "####Keyword break digunakan untuk menghentikan iterasi. Dalam kasus itu maka bagian else diabaikan. Sehingga, bagian iterasi else hanya dijalankan jika tidak terjadi break .\n",
        "####Berikut adalah beberapa contoh sebagai ilustrasi:"
      ]
    },
    {
      "cell_type": "code",
      "metadata": {
        "colab": {
          "base_uri": "https://localhost:8080/"
        },
        "id": "FDnWgEX_QQWv",
        "outputId": "9defbeb8-b399-47b6-f9ca-0c2447defb96"
      },
      "source": [
        "digits = [0, 1, 5]\n",
        "for i in digits:\n",
        " print(i)\n",
        "else:\n",
        " print(\"Tidak ada elemen yang tersisa.\")\n"
      ],
      "execution_count": null,
      "outputs": [
        {
          "output_type": "stream",
          "name": "stdout",
          "text": [
            "0\n",
            "1\n",
            "5\n",
            "Tidak ada elemen yang tersisa.\n"
          ]
        }
      ]
    },
    {
      "cell_type": "markdown",
      "metadata": {
        "id": "MHvveo_ASlfz"
      },
      "source": [
        "####Ketika iterasi berjalan maka akan dilakukan print item hingga iterasi selesai. Ketika iterasi pada sequence selesai baru perintah pada blok else dijalankan yaitu print Tidak ada elemen yang tersisa .\n",
        "####Statement for ... else dapat digunakan bersama dengan keyword break untuk menjalankan blok else hanya ketika break tidak dieksekusi. Lihat contoh berikut:"
      ]
    },
    {
      "cell_type": "code",
      "metadata": {
        "colab": {
          "base_uri": "https://localhost:8080/"
        },
        "id": "u6Ujqpb1Su-F",
        "outputId": "722881eb-0a7c-46f2-fd6c-693ce74e7899"
      },
      "source": [
        "# Program untuk menampilkan nilai tugas siswa.\n",
        "nama_siswa = 'Butet'\n",
        "daftar_nilai = {'Bambang': 90, 'Andri': 55, 'Candra': 77}\n",
        "for siswa in daftar_nilai:\n",
        "    if siswa == nama_siswa:\n",
        "        print(daftar_nilai[siswa])\n",
        "        break\n",
        "else:\n",
        "    print('Tidak ada data nilai atas nama', nama_siswa, '!')\n"
      ],
      "execution_count": null,
      "outputs": [
        {
          "output_type": "stream",
          "name": "stdout",
          "text": [
            "Tidak ada data nilai atas nama Butet !\n"
          ]
        }
      ]
    },
    {
      "cell_type": "markdown",
      "metadata": {
        "id": "Qw2yvrpOT9sn"
      },
      "source": [
        "#**While Loop**\n",
        "###While loop pada Python digunakan untuk melakukan iterasi pada blok kode selama nilai dari test\n",
        "###expression adalah true. Looping ini biasanya digunakan ketika kita tidak tau berapa kali iterasi akan dilakukan hingga sebuah kondisi yang diinginkan dapat dicapai.\n"
      ]
    },
    {
      "cell_type": "markdown",
      "metadata": {
        "id": "WV8Sl5XLUIhC"
      },
      "source": [
        "###**Syntax of while Loop in Python**\n"
      ]
    },
    {
      "cell_type": "code",
      "metadata": {
        "id": "bPQ7lZUeUMvN"
      },
      "source": [
        "while test_expression:\n",
        " Body of while"
      ],
      "execution_count": null,
      "outputs": []
    },
    {
      "cell_type": "markdown",
      "metadata": {
        "id": "AVWpu8D4VQl_"
      },
      "source": [
        "####Pada loop while, test expression justru dicheck pertama kali. Kemudian statement - statement di dalam  body of while akan dieksekusi jika nilai dari test expression adalah true . Setelah satu iterasi dijalankan, test expression dicek kembali. Proses ini terus berlanjut hingga nilai evaluasi dari test expression adalah False .\n",
        "####Pada Python, bagian body pada loop while dituliskan menggunakan indentasi.\n",
        "####Sebagai catatan tambahan bahwa Python menginterpretasikan non-zero values sebagai True. None dan 0 diinterpretasikan sebagai False ."
      ]
    },
    {
      "cell_type": "markdown",
      "metadata": {
        "id": "9ezr_b2qVk-P"
      },
      "source": [
        "###**While Loop Flowchart**"
      ]
    },
    {
      "cell_type": "markdown",
      "metadata": {
        "id": "G515iUYkVqnY"
      },
      "source": [
        "###**Example: Python while Loop**"
      ]
    },
    {
      "cell_type": "code",
      "metadata": {
        "colab": {
          "base_uri": "https://localhost:8080/"
        },
        "id": "khvKmtRaVyyk",
        "outputId": "43f756b6-33fa-45db-c884-f9a3530db4db"
      },
      "source": [
        "# Program untuk menjumlahkan semua \n",
        "# bilangan asli hingga suku ke-n\n",
        "# jumlahan = 1+2+3+...+n\n",
        "n = 10\n",
        "# nilai awal penjumlahan dan iterasi\n",
        "jumlahan = 0\n",
        "i = 1\n",
        "while i <= n:\n",
        " jumlahan = jumlahan + i\n",
        " i = i+1 # update iterasi\n",
        "# cetak hasil penjumlahan\n",
        "print(\"jumlahan =\", jumlahan)"
      ],
      "execution_count": null,
      "outputs": [
        {
          "output_type": "stream",
          "name": "stdout",
          "text": [
            "jumlahan = 55\n"
          ]
        }
      ]
    },
    {
      "cell_type": "markdown",
      "metadata": {
        "id": "z6nxKhU_V6Rr"
      },
      "source": [
        "####Pada program di atas, test expression akan bernilai True selama nilai iterasi i kurang dari atau sama dengan n.\n",
        "####Kita perlu mengupdate nilai dari variabel pencatat iterasi i agar iterasi tidak berlangsung secara terus menerus(infinity loop)."
      ]
    },
    {
      "cell_type": "markdown",
      "metadata": {
        "id": "NZLenyo3WDrS"
      },
      "source": [
        "**While loop with else**\n",
        "####Sama dengan for loop kita juga dapat mengkombinasikan while loop dengan blok else.\n",
        "####Bagian else akan dieksekusi jika nilai pada test expression pada pada while loop bernilai False.\n",
        "####Perhatikan contoh berikut:"
      ]
    },
    {
      "cell_type": "code",
      "metadata": {
        "colab": {
          "base_uri": "https://localhost:8080/"
        },
        "id": "7bR3RzRPWYvh",
        "outputId": "73817ab5-7026-4cf5-a650-f5a450a3a09e"
      },
      "source": [
        "counter = 0\n",
        "while counter < 3:\n",
        " print(\"Di dalam Loop\")\n",
        " counter = counter + 1\n",
        "else:\n",
        " print(\"Di dalam else\")"
      ],
      "execution_count": null,
      "outputs": [
        {
          "output_type": "stream",
          "name": "stdout",
          "text": [
            "Di dalam Loop\n",
            "Di dalam Loop\n",
            "Di dalam Loop\n",
            "Di dalam else\n"
          ]
        }
      ]
    },
    {
      "cell_type": "markdown",
      "metadata": {
        "id": "sdeQAk4VWeFY"
      },
      "source": [
        "#**Contoh penggunaan Perulangan**\n",
        "###**Contoh 1:**\n",
        "###Diberikan list_tagihan . Kamu diminta untuk menghitung jumlah seluruh tagihan!. Gunakan looping for untuk menyelesaikan tugas ini! Simpan hasilnya pada variabel total_tagihan !\n"
      ]
    },
    {
      "cell_type": "code",
      "metadata": {
        "id": "l-_IQ6upWr4c"
      },
      "source": [
        "list_tagihan = [50000, 75000, -150000, 125000, 300000, -50000, 200000]\n"
      ],
      "execution_count": null,
      "outputs": []
    },
    {
      "cell_type": "code",
      "metadata": {
        "colab": {
          "base_uri": "https://localhost:8080/"
        },
        "id": "aolEDOY9WuuX",
        "outputId": "9313216f-ab82-424c-d4af-e1e52a5c04f1"
      },
      "source": [
        "list_tagihan = [50000, 75000, -150000, 125000, 300000, -50000, 200000]\n",
        "total_tagihan = 0\n",
        "for tagihan in list_tagihan: # untuk setiap tagihan dalam list_tagihan\n",
        " total_tagihan += tagihan # tambahkan tagihan ke total_tagihan\n",
        "print(total_tagihan)\n"
      ],
      "execution_count": null,
      "outputs": [
        {
          "output_type": "stream",
          "name": "stdout",
          "text": [
            "550000\n"
          ]
        }
      ]
    },
    {
      "cell_type": "markdown",
      "metadata": {
        "id": "aESebB2GW184"
      },
      "source": [
        "###**Contoh 2:**\n",
        "###Diberikan list_tagihan . Kamu diminta untuk menghitung jumlah seluruh tagihan!. Gunakan looping for untuk menyelesaikan tugas ini! Simpan hasilnya pada variabel total_tagihan !"
      ]
    },
    {
      "cell_type": "code",
      "metadata": {
        "id": "RtplfyDlW9SM"
      },
      "source": [
        "list_tagihan = [50000, 75000, -150000, 125000, 300000, -50000, 200000]\n"
      ],
      "execution_count": null,
      "outputs": []
    },
    {
      "cell_type": "markdown",
      "metadata": {
        "id": "6M38tCnsW_-C"
      },
      "source": [
        "###Perhatikan bahwa, terdapat nilai tagihan yang negatif. Hentikan perhitungan total_tagihan jika menemukan nilai negatif!"
      ]
    },
    {
      "cell_type": "code",
      "metadata": {
        "colab": {
          "base_uri": "https://localhost:8080/"
        },
        "id": "elq1nbQSXGbT",
        "outputId": "f3751733-b601-445a-bd47-5f94ff4170c8"
      },
      "source": [
        "list_tagihan = [50000, 75000, -150000, 125000, 300000, -50000, 200000]\n",
        "total_tagihan = 0\n",
        "for tagihan in list_tagihan:\n",
        "     if tagihan < 0:\n",
        "        print(\"terdapat angka minus dalam tagihan, perhitungan dihentikan!\")\n",
        "        break\n",
        "     total_tagihan += tagihan\n",
        "     \n",
        "print(total_tagihan)"
      ],
      "execution_count": null,
      "outputs": [
        {
          "output_type": "stream",
          "name": "stdout",
          "text": [
            "terdapat angka minus dalam tagihan, perhitungan dihentikan!\n",
            "125000\n"
          ]
        }
      ]
    },
    {
      "cell_type": "markdown",
      "metadata": {
        "id": "PWMMil6VXhfi"
      },
      "source": [
        "###**Contoh 3:**\n",
        "###Diberikan list_cash_flow kamu diminta untuk melakukan penghitungan total_pemasukan dan total_pengeluaran menggunakan looping for . Untuk nilai positif berarti adalah pemasukan dan nilai negatif berarti adalah pengeluaran.\n"
      ]
    },
    {
      "cell_type": "code",
      "metadata": {
        "id": "VyIilhI9ZXyK"
      },
      "source": [
        "list_cash_flow = [2500000, 5000000, -1000000, -2500000, 5000000, 10000000, -500000\n",
        "0, 7500000, 10000000, -1500000, 25000000, -2500000]"
      ],
      "execution_count": null,
      "outputs": []
    },
    {
      "cell_type": "code",
      "metadata": {
        "colab": {
          "base_uri": "https://localhost:8080/"
        },
        "id": "yJCng3XtZa6V",
        "outputId": "e0c653a3-758e-4939-c2bd-df54d81d175a"
      },
      "source": [
        "list_cash_flow = [\n",
        "2500000, 5000000, -1000000, -2500000, 5000000, 10000000,\n",
        "-5000000, 7500000, 10000000, -1500000, 25000000, -2500000\n",
        "]\n",
        "total_pengeluaran, total_pemasukan = 0, 0\n",
        "for dana in list_cash_flow:\n",
        "    if dana > 0:\n",
        "       total_pemasukan += dana\n",
        "    else:\n",
        "        total_pengeluaran += dana\n",
        "total_pengeluaran *= -1\n",
        "print(total_pengeluaran) \n",
        "print(total_pemasukan)\n"
      ],
      "execution_count": null,
      "outputs": [
        {
          "output_type": "stream",
          "name": "stdout",
          "text": [
            "12500000\n",
            "65000000\n"
          ]
        }
      ]
    },
    {
      "cell_type": "markdown",
      "metadata": {
        "id": "Je_95sk0Bduj"
      },
      "source": [
        "#**Latihan**"
      ]
    },
    {
      "cell_type": "markdown",
      "metadata": {
        "id": "auTMLvQyAl2m"
      },
      "source": [
        "###1.)  Buatlah fungsi untuk menghitung diskon suatu pembayaran belanjaan dengan input berupa dictionary untuk daftar harga dan dictionary untuk daftar belanjaan!"
      ]
    },
    {
      "cell_type": "code",
      "metadata": {
        "id": "n6NpZkSUAtLE",
        "colab": {
          "base_uri": "https://localhost:8080/",
          "height": 0
        },
        "outputId": "2fc0fa7a-739f-42a0-949a-5a9913d1ddf8"
      },
      "source": [
        "daftar_harga ={'telur/kg':20000, 'gula_pasir/kg':16000, 'teh/bks':4000}\n",
        "daftar_belanjaan = {'telur':2, 'gula_pasir':5}\n",
        "\n",
        "def pembayaran(x,y):\n",
        "  jumlah = 0\n",
        "  for k in y:\n",
        "    if k==\"telur\":\n",
        "      jumlah = jumlah+(x[\"telur/kg\"]*y[k])\n",
        "    elif k==\"gula_pasir\":\n",
        "      jumlah = jumlah+(x[\"gula_pasir/kg\"]*y[k])\n",
        "    elif k==\"teh\":\n",
        "      jumlah = jumlah+(x[\"teh/bks\"]*y[k])\n",
        "    else:\n",
        "      jumlah = jumlah\n",
        "  return jumlah\n",
        "\n",
        "total_bayar = pembayaran(daftar_harga, daftar_belanjaan)\n",
        "print(total_bayar)"
      ],
      "execution_count": 8,
      "outputs": [
        {
          "output_type": "stream",
          "name": "stdout",
          "text": [
            "120000\n"
          ]
        }
      ]
    }
  ]
}