{
  "nbformat": 4,
  "nbformat_minor": 0,
  "metadata": {
    "colab": {
      "name": "Zulfatin Nafisah_2015015025_ K_Means_Clustering.ipynb",
      "provenance": [],
      "collapsed_sections": [],
      "include_colab_link": true
    },
    "kernelspec": {
      "display_name": "Python 3",
      "language": "python",
      "name": "python3"
    },
    "language_info": {
      "codemirror_mode": {
        "name": "ipython",
        "version": 3
      },
      "file_extension": ".py",
      "mimetype": "text/x-python",
      "name": "python",
      "nbconvert_exporter": "python",
      "pygments_lexer": "ipython3",
      "version": "3.8.5"
    }
  },
  "cells": [
    {
      "cell_type": "markdown",
      "metadata": {
        "id": "view-in-github",
        "colab_type": "text"
      },
      "source": [
        "<a href=\"https://colab.research.google.com/github/Zulfatinnafisah/PSDS_Kelas-Mahir-/blob/main/Zulfatin_Nafisah_2015015025__K_Means_Clustering.ipynb\" target=\"_parent\"><img src=\"https://colab.research.google.com/assets/colab-badge.svg\" alt=\"Open In Colab\"/></a>"
      ]
    },
    {
      "cell_type": "markdown",
      "metadata": {
        "id": "F-igCqxEFRoI"
      },
      "source": [
        "## Pembuka"
      ]
    },
    {
      "cell_type": "markdown",
      "metadata": {
        "id": "3mJbgIpaFRoY"
      },
      "source": [
        "Assalamu'alaikum warahmatullahi wabarakatuh.\n",
        "Puji syukur kehadirat Allah Subhana Wata'ala atas limpahan Rahmat dan HidayahNya kepada kita semua.\n",
        "Sholawat serta salam senantiasa tercurah limpahkan kepada baginda Muhammad Rasulullah Salallahualaihiwassalam.\n",
        "\n",
        "Halo para **Pejuang Data**. Selamat berjumpa di pertemuan kesembilan Program Training **Algoritma Machine Learning** Kelas Mahir.\n",
        "\n",
        "Pada pertemuan ini kamu akan belajar:\n",
        "* K Means Clustering\n",
        "* Algoritma K Means Clustering\n",
        "* Contoh K Means Clustering\n",
        "* Fungsi K Means Clustering\n",
        "* K Means Clustering dengan Scikit Learn"
      ]
    },
    {
      "cell_type": "markdown",
      "metadata": {
        "id": "n7xc8G9lbeuP"
      },
      "source": [
        "## K Means Clustering"
      ]
    },
    {
      "cell_type": "markdown",
      "metadata": {
        "id": "4lXHlRSjbeuT"
      },
      "source": [
        "K-means (MacQueen, 1967) adalah salah satu algoritma pembelajaran tanpa pengawasan paling sederhana yang memecahkan masalah pengelompokan yang terkenal. Prosedurnya mengikuti cara sederhana dan mudah untuk mengklasifikasikan kumpulan data yang diberikan melalui sejumlah cluster tertentu (asumsikan k cluster) tetap secara apriori. Ide utamanya adalah mendefinisikan k centroid, satu untuk setiap cluster. Centroid ini harus ditempatkan dengan cara yang licik karena lokasi yang berbeda menyebabkan hasil yang berbeda. Jadi, pilihan yang lebih baik adalah menempatkan mereka sejauh mungkin dari satu sama lain. Langkah selanjutnya adalah mengambil setiap titik milik kumpulan data yang diberikan dan mengaitkannya ke centroid terdekat. Ketika tidak ada poin yang tertunda, langkah pertama selesai dan pengelompokan awal dilakukan. Pada titik ini kita perlu menghitung ulang k centroid baru sebagai barycenter dari cluster yang dihasilkan dari langkah sebelumnya. Setelah kita memiliki k centroid baru ini, pengikatan baru harus dilakukan antara titik set data yang sama dan centroid baru terdekat. Sebuah loop telah dibuat. Sebagai hasil dari loop ini kita dapat melihat bahwa k centroid mengubah lokasinya langkah demi langkah sampai tidak ada lagi perubahan yang dilakukan. Dengan kata lain centroid tidak bergerak lagi.\n",
        "Terakhir, algoritma ini bertujuan untuk meminimalkan fungsi tujuan, dalam hal ini fungsi kesalahan kuadrat. Fungsi tujuan\n",
        "\n",
        "$$J=\\sum \\limits_{j=1} ^{k} \\sum \\limits_{i=1} ^{n} \\begin{Vmatrix} x_{i} ^{(j)} - c_{j}\\end{Vmatrix} ^{2} $$\n",
        "\n",
        "di mana $ \\begin{Vmatrix} x_{i} ^{(j)} - c_{j}\\end{Vmatrix} ^{2} $ adalah ukuran jarak yang dipilih antara titik data $ x_{i} ^{(j )} $ dan pusat cluster $c_{j}$, merupakan indikator jarak n titik data dari masing-masing pusat cluster.\n"
      ]
    },
    {
      "cell_type": "markdown",
      "metadata": {
        "id": "JGRSyyk8beuU"
      },
      "source": [
        "## Algoritma K-Means Clustering\n",
        "1. Tentukan parameter k\n",
        "2. Tentukan pusat cluster awal secara acak\n",
        "3. Hitung jarak setiap data ke pusat cluster\n",
        "4. Tetapkan cluster data berdasarkan pusat cluster terdekat\n",
        "5. Memperbarui pusat cluster dengan menghitung nilai rata-rata setiap cluster\n",
        "6. Ulangi langkah 3-5 sampai kriteria berhenti terpenuhi:\n",
        "     1. Jumlah iterasi tertentu tercapai, ATAU\n",
        "     2. Tidak ada (atau minimal) perbedaan anggota cluster pada dua iterasi terakhir, OR\n",
        "     3. Tidak ada (atau minimum) perbedaan pusat cluster, ATAU\n",
        "     4. Selisih SSE (Sum of Squared Error) minimum\n"
      ]
    },
    {
      "cell_type": "markdown",
      "metadata": {
        "id": "zpI65x7PbeuU"
      },
      "source": [
        "## Contoh Implementasi K Means"
      ]
    },
    {
      "cell_type": "markdown",
      "metadata": {
        "id": "4-DeWjIMbeuV"
      },
      "source": [
        "**0. Dataset**"
      ]
    },
    {
      "cell_type": "markdown",
      "metadata": {
        "id": "SdNp_9GkbeuV"
      },
      "source": [
        "| $$x_1$$ | $$x_2$$ |\n",
        "| :---: | :---: |\n",
        "|   1   |   1   |\n",
        "|   2   |   3   |\n",
        "|   7   |   8   |\n",
        "|   8   |   8   |"
      ]
    },
    {
      "cell_type": "code",
      "metadata": {
        "id": "4yMp7AnnbeuW"
      },
      "source": [
        "import pandas as pd\n",
        "import numpy as np\n",
        "import matplotlib.pyplot as plt"
      ],
      "execution_count": 2,
      "outputs": []
    },
    {
      "cell_type": "code",
      "metadata": {
        "colab": {
          "base_uri": "https://localhost:8080/",
          "height": 173
        },
        "id": "556Irq6WbeuX",
        "outputId": "9518783e-c8e2-4157-f329-d87ba6b10079"
      },
      "source": [
        "data=pd.DataFrame({\"x1\":[1,2,7,8], \"x2\":[1,3,8,8]})\n",
        "data"
      ],
      "execution_count": 3,
      "outputs": [
        {
          "output_type": "execute_result",
          "data": {
            "text/html": [
              "<div>\n",
              "<style scoped>\n",
              "    .dataframe tbody tr th:only-of-type {\n",
              "        vertical-align: middle;\n",
              "    }\n",
              "\n",
              "    .dataframe tbody tr th {\n",
              "        vertical-align: top;\n",
              "    }\n",
              "\n",
              "    .dataframe thead th {\n",
              "        text-align: right;\n",
              "    }\n",
              "</style>\n",
              "<table border=\"1\" class=\"dataframe\">\n",
              "  <thead>\n",
              "    <tr style=\"text-align: right;\">\n",
              "      <th></th>\n",
              "      <th>x1</th>\n",
              "      <th>x2</th>\n",
              "    </tr>\n",
              "  </thead>\n",
              "  <tbody>\n",
              "    <tr>\n",
              "      <th>0</th>\n",
              "      <td>1</td>\n",
              "      <td>1</td>\n",
              "    </tr>\n",
              "    <tr>\n",
              "      <th>1</th>\n",
              "      <td>2</td>\n",
              "      <td>3</td>\n",
              "    </tr>\n",
              "    <tr>\n",
              "      <th>2</th>\n",
              "      <td>7</td>\n",
              "      <td>8</td>\n",
              "    </tr>\n",
              "    <tr>\n",
              "      <th>3</th>\n",
              "      <td>8</td>\n",
              "      <td>8</td>\n",
              "    </tr>\n",
              "  </tbody>\n",
              "</table>\n",
              "</div>"
            ],
            "text/plain": [
              "   x1  x2\n",
              "0   1   1\n",
              "1   2   3\n",
              "2   7   8\n",
              "3   8   8"
            ]
          },
          "metadata": {},
          "execution_count": 3
        }
      ]
    },
    {
      "cell_type": "code",
      "metadata": {
        "colab": {
          "base_uri": "https://localhost:8080/",
          "height": 282
        },
        "id": "4Vj5eAJobeuZ",
        "outputId": "cdd5eac3-65cb-4267-c08a-a5fa61eb16bb"
      },
      "source": [
        "plt.scatter(data.x1, data.x2)"
      ],
      "execution_count": 4,
      "outputs": [
        {
          "output_type": "execute_result",
          "data": {
            "text/plain": [
              "<matplotlib.collections.PathCollection at 0x7f3ec5852350>"
            ]
          },
          "metadata": {},
          "execution_count": 4
        },
        {
          "output_type": "display_data",
          "data": {
            "image/png": "[encoded data removed]",
            "text/plain": [
              "<Figure size 432x288 with 1 Axes>"
            ]
          },
          "metadata": {
            "needs_background": "light"
          }
        }
      ]
    },
    {
      "cell_type": "markdown",
      "metadata": {
        "id": "R1aaLgNEbeua"
      },
      "source": [
        "**1. Tentukan parameternya $k$**\n",
        "\n",
        "$$k=2$$"
      ]
    },
    {
      "cell_type": "code",
      "metadata": {
        "id": "Q9grO0pybeua"
      },
      "source": [
        "k=2"
      ],
      "execution_count": 5,
      "outputs": []
    },
    {
      "cell_type": "markdown",
      "metadata": {
        "id": "p--DUFysbeub"
      },
      "source": [
        "**2. Tentukan pusat cluster awal secara acak**"
      ]
    },
    {
      "cell_type": "markdown",
      "metadata": {
        "id": "hyXYU1BSbeuc"
      },
      "source": [
        "|Centroid | $$x_1$$ | $$x_2$$ |\n",
        "| :---:   | :---: | :---: |\n",
        "| $$c_1$$ |   1   |   1   |\n",
        "| $$c_2$$ |   2   |   3   |"
      ]
    },
    {
      "cell_type": "code",
      "metadata": {
        "colab": {
          "base_uri": "https://localhost:8080/"
        },
        "id": "MRnKiEc8beuc",
        "outputId": "18722e23-d3ec-4d8a-e785-fc40dae7dc7a"
      },
      "source": [
        "pusat_klaster = np.array([[1,1],[2,3]])\n",
        "pusat_klaster"
      ],
      "execution_count": 6,
      "outputs": [
        {
          "output_type": "execute_result",
          "data": {
            "text/plain": [
              "array([[1, 1],\n",
              "       [2, 3]])"
            ]
          },
          "metadata": {},
          "execution_count": 6
        }
      ]
    },
    {
      "cell_type": "code",
      "metadata": {
        "id": "xr7BkhPabeud"
      },
      "source": [
        "# Determine the initial cluster center randomly\n",
        "import random\n",
        "def pusat_klaster_awal(k, data):\n",
        "    X=np.array(data)\n",
        "    n=len(X)\n",
        "    list_1=np.arange(0,n)\n",
        "    pusat_klaster_index = random.choices(list_1, k=k)\n",
        "    pusat_klaster=X[pusat_klaster_index]\n",
        "    return pusat_klaster"
      ],
      "execution_count": 7,
      "outputs": []
    },
    {
      "cell_type": "markdown",
      "metadata": {
        "id": "ZkHM-AQobeue"
      },
      "source": [
        "**3. Hitung jarak setiap data ke pusat cluster**"
      ]
    },
    {
      "cell_type": "code",
      "metadata": {
        "id": "plWS5SDbbeue"
      },
      "source": [
        "# Define the euclidean distance function\n",
        "def jarak_euclidean(x,y):\n",
        "    return np.sqrt(sum(pow(a-b, 2) for a, b in zip(x,y)))"
      ],
      "execution_count": 8,
      "outputs": []
    },
    {
      "cell_type": "code",
      "metadata": {
        "id": "5cOqo1P3beue"
      },
      "source": [
        "def jarak_centroid_euclidean(data,pusat_klaster):\n",
        "    n=len(data)\n",
        "    k=np.array(pusat_klaster).shape[0]\n",
        "    jarak=[]\n",
        "    for i in range(n):\n",
        "        x = list(data.iloc[i,::])\n",
        "        jrk = [jarak_euclidean(x, pusat_klaster[j]) for j in range(k)]\n",
        "        jarak.append(jrk)\n",
        "    return jarak"
      ],
      "execution_count": 9,
      "outputs": []
    },
    {
      "cell_type": "code",
      "metadata": {
        "colab": {
          "base_uri": "https://localhost:8080/"
        },
        "id": "leMz5fGQbeue",
        "outputId": "ced07e0b-3dca-4260-d772-49c7f06914df"
      },
      "source": [
        "jarak_centroid=jarak_centroid_euclidean(data,pusat_klaster)\n",
        "jarak_centroid"
      ],
      "execution_count": 10,
      "outputs": [
        {
          "output_type": "execute_result",
          "data": {
            "text/plain": [
              "[[0.0, 2.23606797749979],\n",
              " [2.23606797749979, 0.0],\n",
              " [9.219544457292887, 7.0710678118654755],\n",
              " [9.899494936611665, 7.810249675906654]]"
            ]
          },
          "metadata": {},
          "execution_count": 10
        }
      ]
    },
    {
      "cell_type": "markdown",
      "metadata": {
        "id": "qEBmzXtEbeuf"
      },
      "source": [
        "**4. Tetapkan klaster data berdasarkan pusat klaster terdekat**"
      ]
    },
    {
      "cell_type": "code",
      "metadata": {
        "id": "F0T53TIwbeuf"
      },
      "source": [
        "def menentukan_klaster(jarak_centroid):\n",
        "    n=len(jarak_centroid)\n",
        "    label_klaster=list()\n",
        "    for i in range(n):\n",
        "        max_val, idx = min((val, idx) for (idx, val) in enumerate(jarak_centroid[i]))\n",
        "        label_klaster.append(idx)\n",
        "    return label_klaster"
      ],
      "execution_count": 11,
      "outputs": []
    },
    {
      "cell_type": "code",
      "metadata": {
        "colab": {
          "base_uri": "https://localhost:8080/"
        },
        "id": "CtPR161lbeuf",
        "outputId": "a77576c4-f650-4463-ca97-2717149ca7e4"
      },
      "source": [
        "klaster=menentukan_klaster(jarak_centroid)\n",
        "klaster"
      ],
      "execution_count": 12,
      "outputs": [
        {
          "output_type": "execute_result",
          "data": {
            "text/plain": [
              "[0, 1, 1, 1]"
            ]
          },
          "metadata": {},
          "execution_count": 12
        }
      ]
    },
    {
      "cell_type": "markdown",
      "metadata": {
        "id": "Rvtp3Sj4beuf"
      },
      "source": [
        "**5. Memperbarui pusat cluster dengan menghitung nilai rata-rata setiap cluster**"
      ]
    },
    {
      "cell_type": "code",
      "metadata": {
        "id": "BcI2EwvVbeug"
      },
      "source": [
        "def menghitung_pusat_klaster(data, klaster):\n",
        "    data['label']=klaster\n",
        "    pusat_barudf=data.groupby('label', as_index=False).mean()\n",
        "    pusat_barudf=pusat_barudf.iloc[::,1:]\n",
        "    pusat_klaster_baru=np.array(pusat_barudf)\n",
        "    return pusat_klaster_baru"
      ],
      "execution_count": 13,
      "outputs": []
    },
    {
      "cell_type": "code",
      "metadata": {
        "colab": {
          "base_uri": "https://localhost:8080/"
        },
        "id": "JIADFiFGbeug",
        "outputId": "cd319066-5811-4f13-bb2b-cac104838e58"
      },
      "source": [
        "pusat_klaster_baru=menghitung_pusat_klaster(data, klaster)\n",
        "pusat_klaster_baru"
      ],
      "execution_count": 14,
      "outputs": [
        {
          "output_type": "execute_result",
          "data": {
            "text/plain": [
              "array([[1.        , 1.        ],\n",
              "       [5.66666667, 6.33333333]])"
            ]
          },
          "metadata": {},
          "execution_count": 14
        }
      ]
    },
    {
      "cell_type": "markdown",
      "metadata": {
        "id": "G3wT1ueybeug"
      },
      "source": [
        "**6. Ulangi langkah 2 - 5 hingga kriteria henti dipenuhi:**"
      ]
    },
    {
      "cell_type": "code",
      "metadata": {
        "id": "ZZBkr_5Sbeug"
      },
      "source": [
        "def perubahan_pusat_klaster_euclidean(pusat_klaster_lama, pusat_klaster_baru):\n",
        "    perubahan = 0\n",
        "    for a,b in zip(pusat_klaster_lama, pusat_klaster_baru):\n",
        "        perubahan+=jarak_euclidean(a,b)\n",
        "    return perubahan"
      ],
      "execution_count": 15,
      "outputs": []
    },
    {
      "cell_type": "code",
      "metadata": {
        "colab": {
          "base_uri": "https://localhost:8080/"
        },
        "id": "dlQjlz_sbeug",
        "outputId": "c189cca0-d004-42a6-b951-247c21b979ff"
      },
      "source": [
        "perubahan_pusat_klaster_euclidean(pusat_klaster, pusat_klaster_baru)"
      ],
      "execution_count": 16,
      "outputs": [
        {
          "output_type": "execute_result",
          "data": {
            "text/plain": [
              "4.955356249106169"
            ]
          },
          "metadata": {},
          "execution_count": 16
        }
      ]
    },
    {
      "cell_type": "markdown",
      "metadata": {
        "id": "YJDoJtt9beug"
      },
      "source": [
        "## Fungsi K Means Clustering"
      ]
    },
    {
      "cell_type": "code",
      "metadata": {
        "id": "4O0O6cgPbeuh"
      },
      "source": [
        "def plot_klaster(X, klaster, pusat_klaster):\n",
        "    df = pd.DataFrame(dict(x=X[:,0], y=X[:,1], label=klaster))\n",
        "    colors = {0:'blue', 1:'orange', 2:'green'}\n",
        "    fig, ax = plt.subplots(figsize=(8, 8))\n",
        "    grouped = df.groupby('label')\n",
        "    for key, group in grouped:\n",
        "        group.plot(ax=ax, kind='scatter', x='x', y='y', label=key, color=colors[key])\n",
        "    ax.scatter(pusat_klaster[:, 0], pusat_klaster[:, 1], marker='*', s=150, c='#ff2222')\n",
        "    plt.xlabel('X_1')\n",
        "    plt.ylabel('X_2')\n",
        "    plt.show()"
      ],
      "execution_count": 17,
      "outputs": []
    },
    {
      "cell_type": "code",
      "metadata": {
        "id": "8UpkJMXQbeuh"
      },
      "source": [
        "def k_means(k, df):\n",
        "    X=np.array(df)\n",
        "    pusat_klaster_lama = pusat_klaster_awal(k, X)\n",
        "    klaster = [0]*len(X)\n",
        "    epsilon = 100\n",
        "    iterasi = -1\n",
        "    while epsilon>.001:\n",
        "        jarak_ke_pusat_klaster=jarak_centroid_euclidean(df,pusat_klaster_lama)\n",
        "        klaster = menentukan_klaster(jarak_ke_pusat_klaster)\n",
        "        plot_klaster(X, klaster, pusat_klaster_lama)\n",
        "        pusat_klaster_baru = menghitung_pusat_klaster(df, klaster)\n",
        "        epsilon = perubahan_pusat_klaster_euclidean(pusat_klaster_lama, pusat_klaster_baru)\n",
        "        pusat_klaster_lama = pusat_klaster_baru\n",
        "        iterasi += 1\n",
        "    return iterasi, klaster, pusat_klaster_baru"
      ],
      "execution_count": 18,
      "outputs": []
    },
    {
      "cell_type": "code",
      "metadata": {
        "colab": {
          "base_uri": "https://localhost:8080/",
          "height": 979
        },
        "id": "fk8Hfqx7beuh",
        "scrolled": true,
        "outputId": "0501a432-2686-4e03-d34f-529bcacfd627"
      },
      "source": [
        "iterasi, klaster, pusat_klaster= k_means(2, data)"
      ],
      "execution_count": 19,
      "outputs": [
        {
          "output_type": "display_data",
          "data": {
            "image/png": "[encoded data removed]",
            "text/plain": [
              "<Figure size 576x576 with 1 Axes>"
            ]
          },
          "metadata": {
            "needs_background": "light"
          }
        },
        {
          "output_type": "display_data",
          "data": {
            "image/png": "[encoded data removed]",
            "text/plain": [
              "<Figure size 576x576 with 1 Axes>"
            ]
          },
          "metadata": {
            "needs_background": "light"
          }
        }
      ]
    },
    {
      "cell_type": "code",
      "metadata": {
        "colab": {
          "base_uri": "https://localhost:8080/"
        },
        "id": "v05pk7LV7lhf",
        "outputId": "bd0f13b4-4acf-4830-bd9b-ebe29370effa"
      },
      "source": [
        "pusat_klaster"
      ],
      "execution_count": 20,
      "outputs": [
        {
          "output_type": "execute_result",
          "data": {
            "text/plain": [
              "array([[7.5, 8. ],\n",
              "       [1.5, 2. ]])"
            ]
          },
          "metadata": {},
          "execution_count": 20
        }
      ]
    },
    {
      "cell_type": "markdown",
      "metadata": {
        "id": "EarGuG9gVIn4"
      },
      "source": [
        "## K-Means Clustering menggunakan Python Scikit Learn"
      ]
    },
    {
      "cell_type": "code",
      "metadata": {
        "colab": {
          "base_uri": "https://localhost:8080/"
        },
        "id": "0pu6xfe_YSOM",
        "outputId": "9b6d82f4-060d-4783-e66c-6fbd3229fd3c"
      },
      "source": [
        "from sklearn.cluster import KMeans\n",
        "import numpy as np\n",
        "\n",
        "data=pd.DataFrame({\"x1\":[1,2,7,8], \"x2\":[1,3,8,8]})\n",
        "\n",
        "X=np.array(data)\n",
        "X"
      ],
      "execution_count": 21,
      "outputs": [
        {
          "output_type": "execute_result",
          "data": {
            "text/plain": [
              "array([[1, 1],\n",
              "       [2, 3],\n",
              "       [7, 8],\n",
              "       [8, 8]])"
            ]
          },
          "metadata": {},
          "execution_count": 21
        }
      ]
    },
    {
      "cell_type": "code",
      "metadata": {
        "id": "pqSXAT85Yl7l"
      },
      "source": [
        "kmeans = KMeans(n_clusters=2, random_state=0).fit(X)"
      ],
      "execution_count": 22,
      "outputs": []
    },
    {
      "cell_type": "code",
      "metadata": {
        "colab": {
          "base_uri": "https://localhost:8080/"
        },
        "id": "F_5bV3LUYSRK",
        "outputId": "527e2e2d-46bb-4280-d5d2-61947165a741"
      },
      "source": [
        "kmeans.labels_"
      ],
      "execution_count": 23,
      "outputs": [
        {
          "output_type": "execute_result",
          "data": {
            "text/plain": [
              "array([0, 0, 1, 1], dtype=int32)"
            ]
          },
          "metadata": {},
          "execution_count": 23
        }
      ]
    },
    {
      "cell_type": "code",
      "metadata": {
        "colab": {
          "base_uri": "https://localhost:8080/"
        },
        "id": "QNLRc2wvYSUG",
        "outputId": "09b29b60-45c1-4261-902b-7c214a6354f9"
      },
      "source": [
        "kmeans.predict([[0, 0], [12, 3]])"
      ],
      "execution_count": 24,
      "outputs": [
        {
          "output_type": "execute_result",
          "data": {
            "text/plain": [
              "array([0, 1], dtype=int32)"
            ]
          },
          "metadata": {},
          "execution_count": 24
        }
      ]
    },
    {
      "cell_type": "code",
      "metadata": {
        "colab": {
          "base_uri": "https://localhost:8080/"
        },
        "id": "piErV9FAYSXC",
        "outputId": "b8b2148f-62df-4647-c85d-afd4c522deee"
      },
      "source": [
        "kmeans.cluster_centers_"
      ],
      "execution_count": 25,
      "outputs": [
        {
          "output_type": "execute_result",
          "data": {
            "text/plain": [
              "array([[1.5, 2. ],\n",
              "       [7.5, 8. ]])"
            ]
          },
          "metadata": {},
          "execution_count": 25
        }
      ]
    },
    {
      "cell_type": "markdown",
      "metadata": {
        "id": "BDfe8Pmo0M8v"
      },
      "source": [
        "## Latihan"
      ]
    },
    {
      "cell_type": "markdown",
      "metadata": {
        "id": "BkCKbf2z0bvE"
      },
      "source": [
        "Diberikan Dataset"
      ]
    },
    {
      "cell_type": "code",
      "metadata": {
        "id": "mfrdGQmb9XYT"
      },
      "source": [
        "import pandas as pd\n",
        "import numpy as np\n",
        "import matplotlib.pyplot as plt"
      ],
      "execution_count": 48,
      "outputs": []
    },
    {
      "cell_type": "code",
      "metadata": {
        "colab": {
          "base_uri": "https://localhost:8080/",
          "height": 419
        },
        "id": "dhIwKvMs0dlM",
        "outputId": "34524545-2392-4b06-8678-e8bd43d5dbac"
      },
      "source": [
        "data=pd.read_csv(\"https://raw.githubusercontent.com/Zulfatinnafisah/PSDS_Kelas-Mahir-/main/Super-Store-Dataset.csv\")\n",
        "data_used=data[[\"sales\", \"quantity\",\"profit\"]]\n",
        "data_used"
      ],
      "execution_count": 49,
      "outputs": [
        {
          "output_type": "execute_result",
          "data": {
            "text/html": [
              "<div>\n",
              "<style scoped>\n",
              "    .dataframe tbody tr th:only-of-type {\n",
              "        vertical-align: middle;\n",
              "    }\n",
              "\n",
              "    .dataframe tbody tr th {\n",
              "        vertical-align: top;\n",
              "    }\n",
              "\n",
              "    .dataframe thead th {\n",
              "        text-align: right;\n",
              "    }\n",
              "</style>\n",
              "<table border=\"1\" class=\"dataframe\">\n",
              "  <thead>\n",
              "    <tr style=\"text-align: right;\">\n",
              "      <th></th>\n",
              "      <th>sales</th>\n",
              "      <th>quantity</th>\n",
              "      <th>profit</th>\n",
              "    </tr>\n",
              "  </thead>\n",
              "  <tbody>\n",
              "    <tr>\n",
              "      <th>0</th>\n",
              "      <td>261.9600</td>\n",
              "      <td>2</td>\n",
              "      <td>41.9136</td>\n",
              "    </tr>\n",
              "    <tr>\n",
              "      <th>1</th>\n",
              "      <td>731.9400</td>\n",
              "      <td>3</td>\n",
              "      <td>219.5820</td>\n",
              "    </tr>\n",
              "    <tr>\n",
              "      <th>2</th>\n",
              "      <td>14.6200</td>\n",
              "      <td>2</td>\n",
              "      <td>6.8714</td>\n",
              "    </tr>\n",
              "    <tr>\n",
              "      <th>3</th>\n",
              "      <td>957.5775</td>\n",
              "      <td>5</td>\n",
              "      <td>-383.0310</td>\n",
              "    </tr>\n",
              "    <tr>\n",
              "      <th>4</th>\n",
              "      <td>22.3680</td>\n",
              "      <td>2</td>\n",
              "      <td>2.5164</td>\n",
              "    </tr>\n",
              "    <tr>\n",
              "      <th>...</th>\n",
              "      <td>...</td>\n",
              "      <td>...</td>\n",
              "      <td>...</td>\n",
              "    </tr>\n",
              "    <tr>\n",
              "      <th>9983</th>\n",
              "      <td>25.2480</td>\n",
              "      <td>3</td>\n",
              "      <td>4.1028</td>\n",
              "    </tr>\n",
              "    <tr>\n",
              "      <th>9984</th>\n",
              "      <td>91.9600</td>\n",
              "      <td>2</td>\n",
              "      <td>15.6332</td>\n",
              "    </tr>\n",
              "    <tr>\n",
              "      <th>9985</th>\n",
              "      <td>258.5760</td>\n",
              "      <td>2</td>\n",
              "      <td>19.3932</td>\n",
              "    </tr>\n",
              "    <tr>\n",
              "      <th>9986</th>\n",
              "      <td>29.6000</td>\n",
              "      <td>4</td>\n",
              "      <td>13.3200</td>\n",
              "    </tr>\n",
              "    <tr>\n",
              "      <th>9987</th>\n",
              "      <td>243.1600</td>\n",
              "      <td>2</td>\n",
              "      <td>72.9480</td>\n",
              "    </tr>\n",
              "  </tbody>\n",
              "</table>\n",
              "<p>9988 rows × 3 columns</p>\n",
              "</div>"
            ],
            "text/plain": [
              "         sales  quantity    profit\n",
              "0     261.9600         2   41.9136\n",
              "1     731.9400         3  219.5820\n",
              "2      14.6200         2    6.8714\n",
              "3     957.5775         5 -383.0310\n",
              "4      22.3680         2    2.5164\n",
              "...        ...       ...       ...\n",
              "9983   25.2480         3    4.1028\n",
              "9984   91.9600         2   15.6332\n",
              "9985  258.5760         2   19.3932\n",
              "9986   29.6000         4   13.3200\n",
              "9987  243.1600         2   72.9480\n",
              "\n",
              "[9988 rows x 3 columns]"
            ]
          },
          "metadata": {},
          "execution_count": 49
        }
      ]
    },
    {
      "cell_type": "code",
      "metadata": {
        "colab": {
          "base_uri": "https://localhost:8080/"
        },
        "id": "csyhYE3SI1Cm",
        "outputId": "68e9d7a5-8486-4ad7-9a1b-87e8d34bcb52"
      },
      "source": [
        "data_used.info()"
      ],
      "execution_count": 50,
      "outputs": [
        {
          "output_type": "stream",
          "name": "stdout",
          "text": [
            "<class 'pandas.core.frame.DataFrame'>\n",
            "RangeIndex: 9988 entries, 0 to 9987\n",
            "Data columns (total 3 columns):\n",
            " #   Column    Non-Null Count  Dtype  \n",
            "---  ------    --------------  -----  \n",
            " 0   sales     9988 non-null   float64\n",
            " 1   quantity  9988 non-null   int64  \n",
            " 2   profit    9988 non-null   float64\n",
            "dtypes: float64(2), int64(1)\n",
            "memory usage: 234.2 KB\n"
          ]
        }
      ]
    },
    {
      "cell_type": "markdown",
      "metadata": {
        "id": "3Yg9YU1d9paA"
      },
      "source": [
        "Untuk mengetahui jumlah k terbaik dalam kluster K-means, maka digunakan metode Elbow."
      ]
    },
    {
      "cell_type": "code",
      "metadata": {
        "id": "Mm7PqCwe90cZ"
      },
      "source": [
        "from sklearn.cluster import KMeans"
      ],
      "execution_count": 51,
      "outputs": []
    },
    {
      "cell_type": "code",
      "metadata": {
        "id": "OrurslVG-ZVt"
      },
      "source": [
        "distortions = []\n",
        "K = range(1,12)\n",
        "for k in K:\n",
        "    kmeanModel = KMeans(n_clusters=k)\n",
        "    kmeanModel.fit(data_used)\n",
        "    distortions.append(kmeanModel.inertia_)"
      ],
      "execution_count": 52,
      "outputs": []
    },
    {
      "cell_type": "code",
      "metadata": {
        "colab": {
          "base_uri": "https://localhost:8080/",
          "height": 567
        },
        "id": "KGtbk2oF-i8g",
        "outputId": "0b943205-e9bb-4407-eecb-5d69e3da46f6"
      },
      "source": [
        "plt.figure(figsize=(18,9))\n",
        "plt.plot(K, distortions, 'bx-')\n",
        "plt.xlabel('k')\n",
        "plt.ylabel('Distortion')\n",
        "plt.title('Grafik Metode Elbow')\n",
        "plt.show()"
      ],
      "execution_count": 53,
      "outputs": [
        {
          "output_type": "display_data",
          "data": {
            "image/png": "[encoded data removed]",
            "text/plain": [
              "<Figure size 1296x648 with 1 Axes>"
            ]
          },
          "metadata": {
            "needs_background": "light"
          }
        }
      ]
    },
    {
      "cell_type": "markdown",
      "metadata": {
        "id": "U73X6jCE-8N6"
      },
      "source": [
        "Metode elbow digunakan untuk menentukan jumlah klaster yang terbaik yang dapat menghasilkan hasil klaster yang terbaik dan dapat memaksimalkan kualitas hasil klaster. Pada gambar diatas terlihat garis yang mengalami patahan yang membentuk elbow atau siku pada saat k = 3. Maka dengan menggunakan metode ini diperoleh jumlah klaster terbaik berada di k=3."
      ]
    },
    {
      "cell_type": "code",
      "metadata": {
        "id": "W9sPA9K9-84B"
      },
      "source": [
        "def k_means(k, df):\n",
        "    X=np.array(df)\n",
        "    pusat_klaster_lama = pusat_klaster_awal(k, X)\n",
        "    klaster = [0]*len(X)\n",
        "    epsilon = 100\n",
        "    iterasi = -1\n",
        "    while epsilon>.001:\n",
        "        jarak_ke_pusat_klaster=jarak_centroid_euclidean(df,pusat_klaster_lama)\n",
        "        klaster = menentukan_klaster(jarak_ke_pusat_klaster)\n",
        "        pusat_klaster_baru = menghitung_pusat_klaster(df, klaster)\n",
        "        epsilon = perubahan_pusat_klaster_euclidean(pusat_klaster_lama, pusat_klaster_baru)\n",
        "        pusat_klaster_lama = pusat_klaster_baru\n",
        "        iterasi += 1\n",
        "    return iterasi, klaster, pusat_klaster_baru"
      ],
      "execution_count": 54,
      "outputs": []
    },
    {
      "cell_type": "code",
      "metadata": {
        "colab": {
          "base_uri": "https://localhost:8080/"
        },
        "id": "JcjO0ZC4_H3h",
        "outputId": "bcb81172-534e-45ef-d1f2-10458e491174"
      },
      "source": [
        "iterasi, klaster, pusat_klaster = k_means(3, data_used)"
      ],
      "execution_count": 56,
      "outputs": [
        {
          "output_type": "stream",
          "name": "stderr",
          "text": [
            "/usr/local/lib/python3.7/dist-packages/ipykernel_launcher.py:2: SettingWithCopyWarning: \n",
            "A value is trying to be set on a copy of a slice from a DataFrame.\n",
            "Try using .loc[row_indexer,col_indexer] = value instead\n",
            "\n",
            "See the caveats in the documentation: https://pandas.pydata.org/pandas-docs/stable/user_guide/indexing.html#returning-a-view-versus-a-copy\n",
            "  \n"
          ]
        }
      ]
    },
    {
      "cell_type": "code",
      "metadata": {
        "colab": {
          "base_uri": "https://localhost:8080/",
          "height": 419
        },
        "id": "4JBIUefE_6EE",
        "outputId": "4a731426-f38e-4af3-8d94-b788e55ade34"
      },
      "source": [
        "data_used_afterklaster = data_used\n",
        "data_used_afterklaster"
      ],
      "execution_count": 57,
      "outputs": [
        {
          "output_type": "execute_result",
          "data": {
            "text/html": [
              "<div>\n",
              "<style scoped>\n",
              "    .dataframe tbody tr th:only-of-type {\n",
              "        vertical-align: middle;\n",
              "    }\n",
              "\n",
              "    .dataframe tbody tr th {\n",
              "        vertical-align: top;\n",
              "    }\n",
              "\n",
              "    .dataframe thead th {\n",
              "        text-align: right;\n",
              "    }\n",
              "</style>\n",
              "<table border=\"1\" class=\"dataframe\">\n",
              "  <thead>\n",
              "    <tr style=\"text-align: right;\">\n",
              "      <th></th>\n",
              "      <th>sales</th>\n",
              "      <th>quantity</th>\n",
              "      <th>profit</th>\n",
              "      <th>label</th>\n",
              "    </tr>\n",
              "  </thead>\n",
              "  <tbody>\n",
              "    <tr>\n",
              "      <th>0</th>\n",
              "      <td>261.9600</td>\n",
              "      <td>2</td>\n",
              "      <td>41.9136</td>\n",
              "      <td>2</td>\n",
              "    </tr>\n",
              "    <tr>\n",
              "      <th>1</th>\n",
              "      <td>731.9400</td>\n",
              "      <td>3</td>\n",
              "      <td>219.5820</td>\n",
              "      <td>0</td>\n",
              "    </tr>\n",
              "    <tr>\n",
              "      <th>2</th>\n",
              "      <td>14.6200</td>\n",
              "      <td>2</td>\n",
              "      <td>6.8714</td>\n",
              "      <td>2</td>\n",
              "    </tr>\n",
              "    <tr>\n",
              "      <th>3</th>\n",
              "      <td>957.5775</td>\n",
              "      <td>5</td>\n",
              "      <td>-383.0310</td>\n",
              "      <td>0</td>\n",
              "    </tr>\n",
              "    <tr>\n",
              "      <th>4</th>\n",
              "      <td>22.3680</td>\n",
              "      <td>2</td>\n",
              "      <td>2.5164</td>\n",
              "      <td>2</td>\n",
              "    </tr>\n",
              "    <tr>\n",
              "      <th>...</th>\n",
              "      <td>...</td>\n",
              "      <td>...</td>\n",
              "      <td>...</td>\n",
              "      <td>...</td>\n",
              "    </tr>\n",
              "    <tr>\n",
              "      <th>9983</th>\n",
              "      <td>25.2480</td>\n",
              "      <td>3</td>\n",
              "      <td>4.1028</td>\n",
              "      <td>2</td>\n",
              "    </tr>\n",
              "    <tr>\n",
              "      <th>9984</th>\n",
              "      <td>91.9600</td>\n",
              "      <td>2</td>\n",
              "      <td>15.6332</td>\n",
              "      <td>2</td>\n",
              "    </tr>\n",
              "    <tr>\n",
              "      <th>9985</th>\n",
              "      <td>258.5760</td>\n",
              "      <td>2</td>\n",
              "      <td>19.3932</td>\n",
              "      <td>2</td>\n",
              "    </tr>\n",
              "    <tr>\n",
              "      <th>9986</th>\n",
              "      <td>29.6000</td>\n",
              "      <td>4</td>\n",
              "      <td>13.3200</td>\n",
              "      <td>2</td>\n",
              "    </tr>\n",
              "    <tr>\n",
              "      <th>9987</th>\n",
              "      <td>243.1600</td>\n",
              "      <td>2</td>\n",
              "      <td>72.9480</td>\n",
              "      <td>2</td>\n",
              "    </tr>\n",
              "  </tbody>\n",
              "</table>\n",
              "<p>9988 rows × 4 columns</p>\n",
              "</div>"
            ],
            "text/plain": [
              "         sales  quantity    profit  label\n",
              "0     261.9600         2   41.9136      2\n",
              "1     731.9400         3  219.5820      0\n",
              "2      14.6200         2    6.8714      2\n",
              "3     957.5775         5 -383.0310      0\n",
              "4      22.3680         2    2.5164      2\n",
              "...        ...       ...       ...    ...\n",
              "9983   25.2480         3    4.1028      2\n",
              "9984   91.9600         2   15.6332      2\n",
              "9985  258.5760         2   19.3932      2\n",
              "9986   29.6000         4   13.3200      2\n",
              "9987  243.1600         2   72.9480      2\n",
              "\n",
              "[9988 rows x 4 columns]"
            ]
          },
          "metadata": {},
          "execution_count": 57
        }
      ]
    },
    {
      "cell_type": "code",
      "metadata": {
        "id": "vEXbGwbDAFf2"
      },
      "source": [
        "data_used_afterklaster.to_csv('klasterisasi_data_retail.csv', index=False)"
      ],
      "execution_count": 58,
      "outputs": []
    },
    {
      "cell_type": "code",
      "metadata": {
        "colab": {
          "base_uri": "https://localhost:8080/"
        },
        "id": "BHnN4N5MASw2",
        "outputId": "db81f40b-20e2-47f3-aa3d-69b03ae6eb6d"
      },
      "source": [
        "data_used_afterklaster.info()"
      ],
      "execution_count": 59,
      "outputs": [
        {
          "output_type": "stream",
          "name": "stdout",
          "text": [
            "<class 'pandas.core.frame.DataFrame'>\n",
            "RangeIndex: 9988 entries, 0 to 9987\n",
            "Data columns (total 4 columns):\n",
            " #   Column    Non-Null Count  Dtype  \n",
            "---  ------    --------------  -----  \n",
            " 0   sales     9988 non-null   float64\n",
            " 1   quantity  9988 non-null   int64  \n",
            " 2   profit    9988 non-null   float64\n",
            " 3   label     9988 non-null   int64  \n",
            "dtypes: float64(2), int64(2)\n",
            "memory usage: 312.2 KB\n"
          ]
        }
      ]
    }
  ]
}