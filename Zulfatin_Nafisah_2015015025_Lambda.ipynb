{
  "nbformat": 4,
  "nbformat_minor": 0,
  "metadata": {
    "colab": {
      "name": "Zulfatin Nafisah_2015015025_Lambda.ipynb",
      "provenance": [],
      "collapsed_sections": [],
      "authorship_tag": "ABX9TyOxKaz9McW5IYjNPBDR/+aY",
      "include_colab_link": true
    },
    "kernelspec": {
      "name": "python3",
      "display_name": "Python 3"
    },
    "language_info": {
      "name": "python"
    }
  },
  "cells": [
    {
      "cell_type": "markdown",
      "metadata": {
        "id": "view-in-github",
        "colab_type": "text"
      },
      "source": [
        "<a href=\"https://colab.research.google.com/github/Zulfatinnafisah/PSDS_Kelas-Mahir-/blob/main/Zulfatin_Nafisah_2015015025_Lambda.ipynb\" target=\"_parent\"><img src=\"https://colab.research.google.com/assets/colab-badge.svg\" alt=\"Open In Colab\"/></a>"
      ]
    },
    {
      "cell_type": "markdown",
      "metadata": {
        "id": "PN8hYM1tLeDb"
      },
      "source": [
        "#**Pembuka**\n",
        "###Assalamu'alaikum warahmatullahi wabarakatuh. Puji syukur kehadirat Allah Subhana Wata'ala atas limpahan Rahmat dan HidayahNya kepada kita semua. Sholawat serta salam senantiasa tercurah limpahkan kepada baginda Muhammad Rasulullah Salallahualaihiwassalam.\n",
        "###Halo para **Pejuang Data**. Selamat berjumpa di pertemuan pertama Program Training **Algoritma Machine Learning** Kelas Mahir.\n",
        "###Pada pertemuan ini kamu akan belajar:\n",
        "####1. Lambda Pada Python\n",
        "####2. Menggunakan Lambda Expression\n",
        "####3. Anonymous Function\n",
        "####4. Eksekusi Lambda Secara Langsung\n",
        "####5. Mengapa Harus Pakai Lambda?\n",
        "####6. Contoh Pemakaian Fungsi Lambda\n",
        "####7. Latihan"
      ]
    },
    {
      "cell_type": "markdown",
      "metadata": {
        "id": "og2DfA6MsfFU"
      },
      "source": [
        "#**Lambda**\n"
      ]
    },
    {
      "cell_type": "markdown",
      "metadata": {
        "id": "8TbWRyZysjvF"
      },
      "source": [
        "###Fungsi lambda adalah fungsi anonim one line yang didefinisikan tanpa nama. Fungsi lambda dapat mengambil sejumlah arguments , tetapi hanya dapat memiliki satu expression . Sementara fungsi normal didefinisikan menggunakan kata kunci def,dalam Python fungsi anonim didefinisikan menggunakan kata kunci lambda.\n",
        "###Fungsi Lambda digunakan ketika fungsi sederhana hanya digunakan sekali atau untuk waktu yang singkat dalam kode kita. Penggunaannya yang paling umum adalah sebagai argumen untuk fungsi tingkat tinggi (fungsi yang menggunakan fungsi lain sebagai argumen).\n",
        "###Misalkan kita punya fungsi penjumlahan kuadrat seperti ini:"
      ]
    },
    {
      "cell_type": "code",
      "metadata": {
        "id": "_LJZ-bpRs5dH"
      },
      "source": [
        "def penjumlahan_kuadrat(x,y):\n",
        " return x**2 + y**2"
      ],
      "execution_count": null,
      "outputs": []
    },
    {
      "cell_type": "markdown",
      "metadata": {
        "id": "c-5g1B3HtItn"
      },
      "source": [
        "####dengan lambda.. kita tidak perlu menggunakan def dan return , bahkan kita juga tidak perlu menuliskan namanya."
      ]
    },
    {
      "cell_type": "code",
      "metadata": {
        "colab": {
          "base_uri": "https://localhost:8080/"
        },
        "id": "tOfkJKTwtN59",
        "outputId": "bca67f1d-c8e6-4aa0-f412-f8f7ad7b049a"
      },
      "source": [
        "lambda x,y : x**2 + y**2\n"
      ],
      "execution_count": null,
      "outputs": [
        {
          "output_type": "execute_result",
          "data": {
            "text/plain": [
              "<function __main__.<lambda>>"
            ]
          },
          "metadata": {},
          "execution_count": 2
        }
      ]
    },
    {
      "cell_type": "markdown",
      "metadata": {
        "id": "bxv6WSu-tkt1"
      },
      "source": [
        "#**Menggunakan Lambda Expression**\n",
        "\n",
        "###Lambda digunakan untuk membuat fungsi dalam satu baris ekspresi. Ini adalah format untuk membuat fungsi lambda:\n",
        "\n",
        "###Lambda bisa memiliki lebih dari satu argumen atau parameter, tapi hanya bisa memiliki satu ekspresi atau isi."
      ]
    },
    {
      "cell_type": "code",
      "metadata": {
        "id": "dNSUY641uU2C"
      },
      "source": [
        "greeting = lambda name: print(f\"Hello, {name}\") "
      ],
      "execution_count": null,
      "outputs": []
    },
    {
      "cell_type": "markdown",
      "metadata": {
        "id": "g3gR5sG3uaDS"
      },
      "source": [
        "####Karena fungsi lambda tidak punya nama, jadi kita butuh variabel untuk menyimpannya.\n",
        "####Nanti saat kita mau panggil, kita tinggal tuliskan saja nama variabelnya seperti ini:"
      ]
    },
    {
      "cell_type": "code",
      "metadata": {
        "colab": {
          "base_uri": "https://localhost:8080/"
        },
        "id": "OlruKqNIuiab",
        "outputId": "a1e21f7b-48d1-4b52-97cd-e23300339a73"
      },
      "source": [
        "greeting(\"Dian\")\n",
        "greeting(\"Ayu\")"
      ],
      "execution_count": null,
      "outputs": [
        {
          "output_type": "stream",
          "name": "stdout",
          "text": [
            "Hello, Dian\n",
            "Hello, Ayu\n"
          ]
        }
      ]
    },
    {
      "cell_type": "markdown",
      "metadata": {
        "id": "P0wLjbqtummJ"
      },
      "source": [
        "####Beberapa contoh penggunaan fungsi lambda"
      ]
    },
    {
      "cell_type": "code",
      "metadata": {
        "colab": {
          "base_uri": "https://localhost:8080/"
        },
        "id": "bUxUABilut5Y",
        "outputId": "cdaab953-41e5-4d9f-9c16-4767e52a10f3"
      },
      "source": [
        "# Fungsi lambda untuk menambahkan angka 10 kepada argument input\n",
        "f = lambda x: x+10\n",
        "val1 = f(5)\n",
        "val2 = f(100)\n",
        "print(val1, val2)\n"
      ],
      "execution_count": null,
      "outputs": [
        {
          "output_type": "stream",
          "name": "stdout",
          "text": [
            "15 110\n"
          ]
        }
      ]
    },
    {
      "cell_type": "code",
      "metadata": {
        "colab": {
          "base_uri": "https://localhost:8080/"
        },
        "id": "OvbR8OxIu1Px",
        "outputId": "1b51fc13-986e-4f32-dbed-89c0c953205d"
      },
      "source": [
        "# fungsi lambda untuk mengalikan dua argumen input dan menampilkan hasilnya\n",
        "f = lambda x,y: x*y\n",
        "val3 = f(2,10)\n",
        "val4 = f(7,5)\n",
        "print(val3, val4)"
      ],
      "execution_count": null,
      "outputs": [
        {
          "output_type": "stream",
          "name": "stdout",
          "text": [
            "20 35\n"
          ]
        }
      ]
    },
    {
      "cell_type": "markdown",
      "metadata": {
        "id": "zPggOCuXu8s8"
      },
      "source": [
        "#**Anonymous Function**"
      ]
    },
    {
      "cell_type": "markdown",
      "metadata": {
        "id": "W_PCOBfyvB42"
      },
      "source": [
        "###Karena lambda adalah anonymous function, ia akan bebas menggunakan nama apa saja. Dengan kata lain,fungsi lambda bisa disimpan di variabel mana pun. Ini tentunya tidak bisa dilakukan oleh fungsi yang dibuat dengan def. Coba perhatikan ini:\n"
      ]
    },
    {
      "cell_type": "code",
      "metadata": {
        "colab": {
          "base_uri": "https://localhost:8080/",
          "height": 200
        },
        "id": "mYt56oPXvIl2",
        "outputId": "46f10bd6-d9ef-4f57-bd19-e5a1d2897524"
      },
      "source": [
        "def say_hello(nama):\n",
        " print(f\"Hello {nama}, apa kabar?\")\n",
        "ucapin = say_hello(nama)"
      ],
      "execution_count": null,
      "outputs": [
        {
          "output_type": "error",
          "ename": "NameError",
          "evalue": "ignored",
          "traceback": [
            "\u001b[0;31m---------------------------------------------------------------------------\u001b[0m",
            "\u001b[0;31mNameError\u001b[0m                                 Traceback (most recent call last)",
            "\u001b[0;32m<ipython-input-7-5bfcc15f04b7>\u001b[0m in \u001b[0;36m<module>\u001b[0;34m()\u001b[0m\n\u001b[1;32m      1\u001b[0m \u001b[0;32mdef\u001b[0m \u001b[0msay_hello\u001b[0m\u001b[0;34m(\u001b[0m\u001b[0mnama\u001b[0m\u001b[0;34m)\u001b[0m\u001b[0;34m:\u001b[0m\u001b[0;34m\u001b[0m\u001b[0;34m\u001b[0m\u001b[0m\n\u001b[1;32m      2\u001b[0m  \u001b[0mprint\u001b[0m\u001b[0;34m(\u001b[0m\u001b[0;34mf\"Hello {nama}, apa kabar?\"\u001b[0m\u001b[0;34m)\u001b[0m\u001b[0;34m\u001b[0m\u001b[0;34m\u001b[0m\u001b[0m\n\u001b[0;32m----> 3\u001b[0;31m \u001b[0mucapin\u001b[0m \u001b[0;34m=\u001b[0m \u001b[0msay_hello\u001b[0m\u001b[0;34m(\u001b[0m\u001b[0mnama\u001b[0m\u001b[0;34m)\u001b[0m\u001b[0;34m\u001b[0m\u001b[0;34m\u001b[0m\u001b[0m\n\u001b[0m",
            "\u001b[0;31mNameError\u001b[0m: name 'nama' is not defined"
          ]
        }
      ]
    },
    {
      "cell_type": "markdown",
      "metadata": {
        "id": "WVkvn7VPvPDc"
      },
      "source": [
        "####Kita mencoba membuat fungsi say_hello() dengan def, kemudian menyimpannya ke dalam variabel ucapin. Tapi malah error!\n",
        "####Ini karena fungsi tersebut bukanlah fungsi anonymous yang boleh dibah-ubah namanya.\n",
        "####Lalu coba perhatikan di baris terakhir, fungsi lambda greeting() yang sudah dibuat disimpan lagi ke variabel yang berbeda, yakni sapa."
      ]
    },
    {
      "cell_type": "code",
      "metadata": {
        "colab": {
          "base_uri": "https://localhost:8080/"
        },
        "id": "v-iCoEPMxYgK",
        "outputId": "c7b13a30-2f4e-48e9-983d-f2f1ec2ee89c"
      },
      "source": [
        "greeting = lambda name: print(f\"Hello, {name}\")\n",
        "sapa = greeting\n",
        "greeting(\"Andi\")\n"
      ],
      "execution_count": null,
      "outputs": [
        {
          "output_type": "stream",
          "name": "stdout",
          "text": [
            "Hello, Andi\n"
          ]
        }
      ]
    },
    {
      "cell_type": "code",
      "metadata": {
        "colab": {
          "base_uri": "https://localhost:8080/"
        },
        "id": "dXQzSfn8xhYq",
        "outputId": "31238f30-cdbc-449c-d261-96f1104f77ee"
      },
      "source": [
        "sapa(\"Neli\")\n"
      ],
      "execution_count": null,
      "outputs": [
        {
          "output_type": "stream",
          "name": "stdout",
          "text": [
            "Hello, Neli\n"
          ]
        }
      ]
    },
    {
      "cell_type": "markdown",
      "metadata": {
        "id": "5mRgZqrfxtjx"
      },
      "source": [
        "####Hasilnya tidak eror,karena ini adalah fungsi anonymous atau lambda"
      ]
    },
    {
      "cell_type": "markdown",
      "metadata": {
        "id": "Wux4feqFx4lx"
      },
      "source": [
        "#**Eksekusi Lambda Secara Langsung**\n",
        "###Eksekusi Lambda Secara Langsung Kelebihan fungsi lambda dibandingkan def adalah bisa kita eksekusi langsung.\n",
        "###Contohnya:"
      ]
    },
    {
      "cell_type": "code",
      "metadata": {
        "colab": {
          "base_uri": "https://localhost:8080/"
        },
        "id": "b0tjQO7PyDSg",
        "outputId": "a0497d48-e152-409b-c706-0c5ff6408201"
      },
      "source": [
        "(lambda x,y: x**2 + y**2)(4,6)"
      ],
      "execution_count": null,
      "outputs": [
        {
          "output_type": "execute_result",
          "data": {
            "text/plain": [
              "52"
            ]
          },
          "metadata": {},
          "execution_count": 10
        }
      ]
    },
    {
      "cell_type": "markdown",
      "metadata": {
        "id": "eCxr6yB5yIqQ"
      },
      "source": [
        "####Tanda kurung yang mengapit fungsi lambda artinya kita akan langsung mengeksekusi fungsi tersebut. Lalu kurung berikutnya akan berisi argument.Angka 4 dan 6 adalah argument untuk x dan y yang akan diberikan kepada fungsi lambda.Maka kita akan langsung mendapatkan hasilnya, yakni: 42 + 62 = 52.Hasil dari eksekusi ini bisa juga kita simpan ke dalam variabel.\n"
      ]
    },
    {
      "cell_type": "code",
      "metadata": {
        "id": "G9au-Nd1yR3z"
      },
      "source": [
        "hasil = (lambda x,y: x**2 + y**2)(4,6)\n"
      ],
      "execution_count": null,
      "outputs": []
    },
    {
      "cell_type": "markdown",
      "metadata": {
        "id": "yl8FLuCgy8C8"
      },
      "source": [
        "#**Mengapa Harus Pakai Lambda?**\n",
        "###Kita memang tidak harus selalu menggunakan Lambda, tapi dalam kasus tertentu lambda lebih baik dibandingkan fungsi biasa.\n",
        "###Lambda biasanya dibutuhkan saat kita ingin membuat fungsi dalam satu baris.\n",
        "###Biasanya saat menggunakan fungsi-fungsi seperti filter() , map() , dan reduce() kita akan membutuhkan lambda.\n",
        "###Mengapa?\n",
        "###Karena di fungsi-fungsi tersebut membutuhkan parameter fungsi.\n",
        "###Contoh:"
      ]
    },
    {
      "cell_type": "code",
      "metadata": {
        "colab": {
          "base_uri": "https://localhost:8080/"
        },
        "id": "O-LpVy0ZzMRM",
        "outputId": "8bf13e5d-963c-4979-f890-c6866441f82e"
      },
      "source": [
        "bilangan = [10,2,8,7,5,4,3,11,0, 1]\n",
        "filtered_result = map (lambda x: x*x, bilangan) \n",
        "print(list(filtered_result))"
      ],
      "execution_count": null,
      "outputs": [
        {
          "output_type": "stream",
          "name": "stdout",
          "text": [
            "[100, 4, 64, 49, 25, 16, 9, 121, 0, 1]\n"
          ]
        }
      ]
    },
    {
      "cell_type": "markdown",
      "metadata": {
        "id": "0xIw4I7IzRLv"
      },
      "source": [
        "####Pada fungsi map() kita memberikan parameter dengan fungsi lambda.\n",
        "####Mengapa bisa begitu?\n",
        "####Karena lambda bisa disimpan ke dalam variabel, otomatis dia akan bisa juga jadi parameter.\n",
        "####Satu lagi contoh dengan fungsi filter():"
      ]
    },
    {
      "cell_type": "code",
      "metadata": {
        "colab": {
          "base_uri": "https://localhost:8080/"
        },
        "id": "e-O_iSNjza4o",
        "outputId": "8aad90ab-8c07-48e3-bde0-b343d96e6e73"
      },
      "source": [
        "# menentukan bilangan genap\n",
        "genap = lambda x: x%2 == 0\n",
        "list(filter(genap, range(11)))\n"
      ],
      "execution_count": null,
      "outputs": [
        {
          "output_type": "execute_result",
          "data": {
            "text/plain": [
              "[0, 2, 4, 6, 8, 10]"
            ]
          },
          "metadata": {},
          "execution_count": 14
        }
      ]
    },
    {
      "cell_type": "markdown",
      "metadata": {
        "id": "DxylmduEz2AG"
      },
      "source": [
        "#**Contoh Pemakaian Fungsi Lambda**\n",
        "###1. Melakukan filter tertentu pada suatu list"
      ]
    },
    {
      "cell_type": "code",
      "metadata": {
        "colab": {
          "base_uri": "https://localhost:8080/"
        },
        "id": "4XUZ1gnu0AJn",
        "outputId": "59df2e13-0699-4490-d9f6-cda410b1a489"
      },
      "source": [
        "list_nama_provinsi = ['Jawa Barat', 'Jawa Timur', 'Jawa Tengah', 'DKI Jakarta', 'Banten']\n",
        "# Menggambil nama provinsi dengan kata 'Jawa'\n",
        "pilih_jawa = lambda k: 'jawa' in k.lower()\n",
        "# Note:lower() untuk merubah huruf menjadi lower case\n",
        "list(filter(pilih_jawa, list_nama_provinsi))\n"
      ],
      "execution_count": null,
      "outputs": [
        {
          "output_type": "execute_result",
          "data": {
            "text/plain": [
              "['Jawa Barat', 'Jawa Timur', 'Jawa Tengah']"
            ]
          },
          "metadata": {},
          "execution_count": 16
        }
      ]
    },
    {
      "cell_type": "markdown",
      "metadata": {
        "id": "y0MEQQlJ0Uh4"
      },
      "source": [
        "###2. Mendefinisikan kolom baru dengan fungsi tertentu pada Data Frame"
      ]
    },
    {
      "cell_type": "code",
      "metadata": {
        "colab": {
          "base_uri": "https://localhost:8080/",
          "height": 238
        },
        "id": "Imp3v6WO0cAC",
        "outputId": "1d5978f8-64ea-41d6-9e20-6ee51e3c6906"
      },
      "source": [
        "# Impor Library Pandas\n",
        "import pandas as pd\n",
        "# Membuat list yang memuat data\n",
        "hasil_ekspor= [['Rohan',455],['Elvan',250],['Irpan',495],\n",
        " ['Soni',400],['Radhika',350],['Joni',450]]\n",
        "# Membuat Pandas DataFrame\n",
        "df = pd.DataFrame(hasil_ekspor,columns=['Eksportir','Total_Ekspor_TON'])\n",
        "# Target Ekspor adalah 500 Ton\n",
        "# Persentase hasil ekspor diperoleh dari Total_Ekspor_TON dibagi target X 100%\n",
        "# diterapkan pada dataframe dengan bantuan method df.assign()\n",
        "df = df.assign(Persentase = lambda x: (x['Total_Ekspor_TON'] /500 * 100))\n",
        "# Menampilkan DataFRame\n",
        "df\n"
      ],
      "execution_count": null,
      "outputs": [
        {
          "output_type": "execute_result",
          "data": {
            "text/html": [
              "<div>\n",
              "<style scoped>\n",
              "    .dataframe tbody tr th:only-of-type {\n",
              "        vertical-align: middle;\n",
              "    }\n",
              "\n",
              "    .dataframe tbody tr th {\n",
              "        vertical-align: top;\n",
              "    }\n",
              "\n",
              "    .dataframe thead th {\n",
              "        text-align: right;\n",
              "    }\n",
              "</style>\n",
              "<table border=\"1\" class=\"dataframe\">\n",
              "  <thead>\n",
              "    <tr style=\"text-align: right;\">\n",
              "      <th></th>\n",
              "      <th>Eksportir</th>\n",
              "      <th>Total_Ekspor_TON</th>\n",
              "      <th>Persentase</th>\n",
              "    </tr>\n",
              "  </thead>\n",
              "  <tbody>\n",
              "    <tr>\n",
              "      <th>0</th>\n",
              "      <td>Rohan</td>\n",
              "      <td>455</td>\n",
              "      <td>91.0</td>\n",
              "    </tr>\n",
              "    <tr>\n",
              "      <th>1</th>\n",
              "      <td>Elvan</td>\n",
              "      <td>250</td>\n",
              "      <td>50.0</td>\n",
              "    </tr>\n",
              "    <tr>\n",
              "      <th>2</th>\n",
              "      <td>Irpan</td>\n",
              "      <td>495</td>\n",
              "      <td>99.0</td>\n",
              "    </tr>\n",
              "    <tr>\n",
              "      <th>3</th>\n",
              "      <td>Soni</td>\n",
              "      <td>400</td>\n",
              "      <td>80.0</td>\n",
              "    </tr>\n",
              "    <tr>\n",
              "      <th>4</th>\n",
              "      <td>Radhika</td>\n",
              "      <td>350</td>\n",
              "      <td>70.0</td>\n",
              "    </tr>\n",
              "    <tr>\n",
              "      <th>5</th>\n",
              "      <td>Joni</td>\n",
              "      <td>450</td>\n",
              "      <td>90.0</td>\n",
              "    </tr>\n",
              "  </tbody>\n",
              "</table>\n",
              "</div>"
            ],
            "text/plain": [
              "  Eksportir  Total_Ekspor_TON  Persentase\n",
              "0     Rohan               455        91.0\n",
              "1     Elvan               250        50.0\n",
              "2     Irpan               495        99.0\n",
              "3      Soni               400        80.0\n",
              "4   Radhika               350        70.0\n",
              "5      Joni               450        90.0"
            ]
          },
          "metadata": {},
          "execution_count": 17
        }
      ]
    },
    {
      "cell_type": "markdown",
      "metadata": {
        "id": "oO9OvKqC0rGi"
      },
      "source": [
        "#**Latihan**\n",
        "\n",
        "###1. Buatlah fungsi lambda untuk melakukan filter pada data range(n) untuk data-data yang berupa bilangan kelipatan 3!"
      ]
    },
    {
      "cell_type": "code",
      "metadata": {
        "id": "D3V7cbX-0yf2",
        "colab": {
          "base_uri": "https://localhost:8080/"
        },
        "outputId": "4b2f8249-8467-4d78-f94b-f86fad2d5e4c"
      },
      "source": [
        "Kelipatan = lambda x: x%3 == 0\n",
        "list(filter(Kelipatan,range(10)))"
      ],
      "execution_count": null,
      "outputs": [
        {
          "output_type": "execute_result",
          "data": {
            "text/plain": [
              "[0, 3, 6, 9]"
            ]
          },
          "metadata": {},
          "execution_count": 18
        }
      ]
    },
    {
      "cell_type": "markdown",
      "metadata": {
        "id": "8XAGaryS0zcF"
      },
      "source": [
        "###2. Buatlah fungsi lambda untuk memilih kata-kata dengan jumlah karakter lebih dari sama dengan 6 pada list inputnya. Misal:\n",
        " "
      ]
    },
    {
      "cell_type": "code",
      "metadata": {
        "id": "v3H4XkzZ1R0z",
        "colab": {
          "base_uri": "https://localhost:8080/"
        },
        "outputId": "e46f0455-cd4c-493b-b494-6dd411b70e06"
      },
      "source": [
        "list_input = ['saya','adalah','seorang','kapiten']\n",
        "karakter = lambda k:len(k)>=6 \n",
        "list(filter(karakter, list_input))"
      ],
      "execution_count": 2,
      "outputs": [
        {
          "output_type": "execute_result",
          "data": {
            "text/plain": [
              "['adalah', 'seorang', 'kapiten']"
            ]
          },
          "metadata": {},
          "execution_count": 2
        }
      ]
    }
  ]
}