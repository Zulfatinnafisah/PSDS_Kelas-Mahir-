{
  "nbformat": 4,
  "nbformat_minor": 0,
  "metadata": {
    "colab": {
      "name": "Zulfatin Nafisah_2015015025_Percabangan.ipynb",
      "provenance": [],
      "collapsed_sections": [],
      "authorship_tag": "ABX9TyPD86eK0NgdBkepmG/US9hW",
      "include_colab_link": true
    },
    "kernelspec": {
      "name": "python3",
      "display_name": "Python 3"
    },
    "language_info": {
      "name": "python"
    }
  },
  "cells": [
    {
      "cell_type": "markdown",
      "metadata": {
        "id": "view-in-github",
        "colab_type": "text"
      },
      "source": [
        "<a href=\"https://colab.research.google.com/github/Zulfatinnafisah/PSDS_Kelas-Mahir-/blob/main/Zulfatin_Nafisah_2015015025_Percabangan.ipynb\" target=\"_parent\"><img src=\"https://colab.research.google.com/assets/colab-badge.svg\" alt=\"Open In Colab\"/></a>"
      ]
    },
    {
      "cell_type": "markdown",
      "metadata": {
        "id": "hBH5DLjbMdKT"
      },
      "source": [
        "#**Pembuka**\n",
        "###Assalamu'alaikum warahmatullahi wabarakatuh. Puji syukur kehadirat Allah Subhana Wata'ala atas limpahan Rahmat dan HidayahNya kepada kita semua. Sholawat serta salam senantiasa tercurah limpahkan kepada baginda Muhammad Rasulullah Salallahualaihiwassalam.\n",
        "###Halo para **Pejuang Data**. Selamat berjumpa di pertemuan kedua Program Training **Algoritma Machine Learning** Kelas Mahir.\n",
        "###Pada pertemuan ini kamu akan belajar:\n",
        "####1. Percabangan/ Struktur Pemilihan\n",
        "####2. IF Statements\n",
        "####3. IF ELSE Statements\n",
        "####4. IF ELIF ELSE Statements\n",
        "####5. Python Nested IF Statements\n",
        "####6. Latihan"
      ]
    },
    {
      "cell_type": "markdown",
      "metadata": {
        "id": "Ar6TKKXzBgiE"
      },
      "source": [
        "#**Percabangan/ Struktur Pemilihan**\n",
        "###Pada bagian ini, kamu akan membuat keputusan pada bahasa pemrograman Python menggunakan struktur percabangan atau juga sering disebut IF ELSE Statement. Pengambilan keputusan dibutuhkan ketika kamu akan mengeksekusi suatu kode jika sebuah kondisi tertentu dipenuhi.Statement if .. elif ... else digunakan pada bahasa Python untuk pengambilan keputusan."
      ]
    },
    {
      "cell_type": "markdown",
      "metadata": {
        "id": "7F4BzXl4CFZ7"
      },
      "source": [
        "#**IF Statements**"
      ]
    },
    {
      "cell_type": "markdown",
      "metadata": {
        "id": "MlMSnLb8DEAg"
      },
      "source": [
        "###**Python IF Statement Syntax**"
      ]
    },
    {
      "cell_type": "code",
      "metadata": {
        "id": "9bFbIJqLCoLz"
      },
      "source": [
        "if test expression:\n",
        " statement(s)\n"
      ],
      "execution_count": null,
      "outputs": []
    },
    {
      "cell_type": "markdown",
      "metadata": {
        "id": "rqDdPPEmCpET"
      },
      "source": [
        "####Program akan mengevaluasi nilai dari test expression yang diberikan kemudian akan mengeksekusi statement(s) hanya jika test expression bernilai True .\n",
        "####Jika test expression bernilai False , maka statement(s) tidak dieksekusi.\n",
        "####Seperti telah disampaikan pada pertemuan sebelumnya bahwa bagian body dari statement if diindikasikan dengan indentasi. Statement-statement yang akan dijalankan jika test expression bernilai True ditulis pada baris selanjutnya dan menjorok ke dalam.\n",
        "####Sebagai catatan tambahan bahwa Python menginterpretasikan non-zero values sebagai True . None dan 0 diinterpretasikan sebagai False .\n",
        "\n"
      ]
    },
    {
      "cell_type": "markdown",
      "metadata": {
        "id": "ubGVDyupDCYE"
      },
      "source": [
        "###**Python IF Statement Flowchart**\n"
      ]
    },
    {
      "cell_type": "markdown",
      "metadata": {
        "id": "UMxaOon2DVV0"
      },
      "source": [
        "###**Example: Python IF Statement**\n"
      ]
    },
    {
      "cell_type": "code",
      "metadata": {
        "colab": {
          "base_uri": "https://localhost:8080/"
        },
        "id": "ZjPtcMxSDqZz",
        "outputId": "4f974905-1ca1-4ef6-bdcd-29608fb60a15"
      },
      "source": [
        "# Jika angka adalah bilangan positif maka print \"adalah bilangan positif\"\n",
        "angka = 3\n",
        "if angka > 0:\n",
        " print(angka, \"adalah bilangan positif.\")\n",
        "print(\"Pernyataan ini selalu ditampilkan.\")\n",
        "angka = -1\n",
        "if angka > 0:\n",
        " print(angka, \"adalah bilangan positif.\")\n",
        "print(\"Pernyataan ini juga selalu ditampilkan.\")\n"
      ],
      "execution_count": null,
      "outputs": [
        {
          "output_type": "stream",
          "name": "stdout",
          "text": [
            "3 adalah bilangan positif.\n",
            "Pernyataan ini selalu ditampilkan.\n",
            "Pernyataan ini juga selalu ditampilkan.\n"
          ]
        }
      ]
    },
    {
      "cell_type": "markdown",
      "metadata": {
        "id": "e_2wMDFgDyDX"
      },
      "source": [
        "####Pada contoh di atas, angka > 0 adalah test expression . Bagian body dari if dieksekusi hanya jika hasil evaluasi dari test expression adalah bernilai True .\n",
        "####Ketika variabel angka bernilai 3, test expression bernilai True sehingga statement di dalam bagian body dari if akan dieksekusi. Sedangkan ketika variabel angka bernilai -1, test expression bernilai False sehingga statement di dalam bagian body dari if tidak dieksekusi(di skip).\n",
        "####Statement print() di luar blok if (yang tidak terindentasi) akan selalu dieksekusi."
      ]
    },
    {
      "cell_type": "markdown",
      "metadata": {
        "id": "rBa81DMwEGrQ"
      },
      "source": [
        "#**IF ELSE Statements**\n",
        "###**Python IF ELSE Statement Syntax**"
      ]
    },
    {
      "cell_type": "code",
      "metadata": {
        "id": "OQOxUP8iEU9D"
      },
      "source": [
        "if test expression:\n",
        " Body of if\n",
        "else :\n",
        " Body of else"
      ],
      "execution_count": null,
      "outputs": []
    },
    {
      "cell_type": "markdown",
      "metadata": {
        "id": "3Wjwao5DEX43"
      },
      "source": [
        "####Statement if ... else mengevaluasi test expression dan akan mengeksekusi bagian body of if hanya jika test expression bernilai True.\n",
        "####Jika test expression bernilai False, maka bagian body of else akan dieksekusi. Indentasi juga digunakan pada bagian ini."
      ]
    },
    {
      "cell_type": "markdown",
      "metadata": {
        "id": "RrhcE5AcFjUI"
      },
      "source": [
        "###**Python IF ELSE Statement Flowchart**"
      ]
    },
    {
      "cell_type": "markdown",
      "metadata": {
        "id": "htg9Ym8BFwrI"
      },
      "source": [
        "###**Example: Python IF ELSE Statement**"
      ]
    },
    {
      "cell_type": "code",
      "metadata": {
        "colab": {
          "base_uri": "https://localhost:8080/"
        },
        "id": "ZaYKTVcCF3kH",
        "outputId": "59adac26-0356-4342-8bcb-68773d0ba618"
      },
      "source": [
        "# Program disusun untuk mengecek apakah angka merupakan bilangan positif atau negatif \n",
        "# dan menampilkan tulisan yang sesuai\n",
        "angka = 3\n",
        "# Kamu bisa mencoba angka-angka lainnya berikut:\n",
        "# angka = -5\n",
        "# angka = 0\n",
        "if angka >= 0:\n",
        " print(\"Bilangan Positif atau Nol\")\n",
        "else:\n",
        " print(\"Bilangan Negatif\")\n"
      ],
      "execution_count": null,
      "outputs": [
        {
          "output_type": "stream",
          "name": "stdout",
          "text": [
            "Bilangan Positif atau Nol\n"
          ]
        }
      ]
    },
    {
      "cell_type": "markdown",
      "metadata": {
        "id": "ziCs2iQHGO01"
      },
      "source": [
        "####Pada contoh di atas, ketika angka sama dengan 3, test expression bernilai True dan bagian body dari if dieksekusi sedangkan bagian body dari else diabaikan.\n",
        "####Ketika angka sama dengan -5, test expression bernilai False dan bagian body dari if diabaikan sedangkan bagian body dari else dieksekusi.\n",
        "####Jika angka sama dengan 0, test expression bernilai True dan bagian body dari if dieksekusi sedangkan bagian body dari else diabaikan."
      ]
    },
    {
      "cell_type": "code",
      "metadata": {
        "colab": {
          "base_uri": "https://localhost:8080/"
        },
        "id": "FFzh65RwGidq",
        "outputId": "c976b7c0-4acf-459d-f776-98c863eea26d"
      },
      "source": [
        "# Program disusun untuk mengecek apakah dua buah angka sama atau tidak \n",
        "# dan menampilkan tulisan yang sesuai\n",
        "a = 5\n",
        "b = 5\n",
        "if a==b:\n",
        " print(\"a dan b bernilai sama\")\n",
        "else:\n",
        " print(\"a dan b bernilai berbeda\")\n",
        " print(\"Halo\")\n"
      ],
      "execution_count": null,
      "outputs": [
        {
          "output_type": "stream",
          "name": "stdout",
          "text": [
            "a dan b bernilai sama\n"
          ]
        }
      ]
    },
    {
      "cell_type": "code",
      "metadata": {
        "colab": {
          "base_uri": "https://localhost:8080/"
        },
        "id": "SfDXOUsnGvMQ",
        "outputId": "e6ff5465-ec07-4fcc-8f04-f462056ac7ef"
      },
      "source": [
        "# Program disusun untuk mengecek apakah perbandingan dua buah angka \n",
        "# dan menampilkan tulisan yang sesuai\n",
        "# membaca dua angka\n",
        "bilangan1 = int(input(\"Masukkan bilangan pertama: \"))\n",
        "bilangan2 = int(input(\"Masukkan bilangan kedua: \"))\n",
        "# memilih bilangan yang lebih besar\n",
        "if bilangan1 > bilangan2:\n",
        " bilangan_lebih_besar = bilangan1\n",
        "else:\n",
        " bilangan_lebih_besar = bilangan2\n",
        "# menampilkan hasil\n",
        "print(\"Bilangan yang lebih besar adalah:\", bilangan_lebih_besar)\n"
      ],
      "execution_count": null,
      "outputs": [
        {
          "output_type": "stream",
          "name": "stdout",
          "text": [
            "Masukkan bilangan pertama: 10\n",
            "Masukkan bilangan kedua: 10\n",
            "Bilangan yang lebih besar adalah: 10\n"
          ]
        }
      ]
    },
    {
      "cell_type": "markdown",
      "metadata": {
        "id": "YhWxc9shG6fh"
      },
      "source": [
        "#**IF ELIF ELSE Statements**\n",
        "###**Python IF ELIF ELSE Statement Syntax**"
      ]
    },
    {
      "cell_type": "code",
      "metadata": {
        "id": "xupoZJ8FHELh"
      },
      "source": [
        "if test expression:\n",
        " Body of if\n",
        "elif test expression:\n",
        " Body of elif\n",
        "else :\n",
        " Body of else\n"
      ],
      "execution_count": null,
      "outputs": []
    },
    {
      "cell_type": "markdown",
      "metadata": {
        "id": "AYa-U0UWHHuO"
      },
      "source": [
        "####elif adalah kependekan dari else if. Perintah ini bertugas untuk mengecek beberapa test expression .\n",
        "####Jika kondisi untuk statement if bernilai False , maka akan mengecek ke kondisi elif selanjutnya dan begitu seterusnya. Jika semua kondisi pada statement if dan elif bernilai False maka, bagian body dari else akan dieksekusi.\n",
        "####Hanya satu blok di antara if , elif,dan else yangakan dieksekusi berdasarkan kondisi yang sesuai.Pada sebuah if blok hanya diijinkan sebuah else blok namun dapat memiliki beberapa blok elif .\n",
        "\n"
      ]
    },
    {
      "cell_type": "markdown",
      "metadata": {
        "id": "kzgsNX9NHcnQ"
      },
      "source": [
        "###**Python IF ELIF ELSE Statement FlowChart**"
      ]
    },
    {
      "cell_type": "markdown",
      "metadata": {
        "id": "Ip3P6aVsHqib"
      },
      "source": [
        "###**Example: Python IF ELIF ELSE Statement**"
      ]
    },
    {
      "cell_type": "code",
      "metadata": {
        "colab": {
          "base_uri": "https://localhost:8080/"
        },
        "id": "DmGnJ0QZHxst",
        "outputId": "e38b2a8b-4cf6-4f1d-e0d4-bc8c9dafd8cb"
      },
      "source": [
        "# Program disusun untuk mengecek apakah angka merupakan bilangan positif, negatif atau nol \n",
        "# dan menampilkan tulisan yang sesuai\n",
        "angka = 3.4\n",
        "# Kamu bisa mencoba angka-angka lainnya berikut:\n",
        "# angka = 0\n",
        "# angka = -4.5\n",
        "if angka > 0:\n",
        " print(\"Bilangan Positif\")\n",
        "elif num == 0:\n",
        " print(\"Nol\")\n",
        "else:\n",
        " print(\"Bilangan Negatif\")"
      ],
      "execution_count": null,
      "outputs": [
        {
          "output_type": "stream",
          "name": "stdout",
          "text": [
            "Bilangan Positif\n"
          ]
        }
      ]
    },
    {
      "cell_type": "markdown",
      "metadata": {
        "id": "coS8BBTHH9et"
      },
      "source": [
        "####Ketika variabel angka bernilai positif , maka Bilangan Positif ditampilkan.\n",
        "####Jika angka sama dengan 0, maka Nol ditampilkan.\n",
        "####Jika angka bernilai negatif , maka Bilangan Negatif ditampilkan."
      ]
    },
    {
      "cell_type": "code",
      "metadata": {
        "colab": {
          "base_uri": "https://localhost:8080/"
        },
        "id": "EfHhuj7IIGfj",
        "outputId": "c540c611-9d8a-48b0-e5e5-6734395fed39"
      },
      "source": [
        "# Statement if\n",
        "x = 4\n",
        "if x % 2 == 0: # jika sisa bagi x dengan 2 sama dengan 0\n",
        " print(\"x habis dibagi dua\") # statemen aksi lebih menjorok ke dalam\n",
        "# Statement if ... elif ... else\n",
        "x = 7\n",
        "if x % 2 == 0: # jika sisa bagi x dengan 2 sama dengan 0\n",
        " print(\"x habis dibagi dua\")\n",
        "elif x % 3 ==0: # jika sisa bagi x dengan 3 sama dengan 0\n",
        " print(\"x habis dibagi tiga\")\n",
        "elif x % 5 ==0: # jika sisa bagi x dengan 5 sama dengan 0\n",
        " print(\"x habis dibagi lima\")\n",
        "else:\n",
        " print(\"x tidak habis dibagi dua, tiga ataupun lima\")\n"
      ],
      "execution_count": null,
      "outputs": [
        {
          "output_type": "stream",
          "name": "stdout",
          "text": [
            "x habis dibagi dua\n",
            "x tidak habis dibagi dua, tiga ataupun lima\n"
          ]
        }
      ]
    },
    {
      "cell_type": "markdown",
      "metadata": {
        "id": "mHy3mvZkIeLO"
      },
      "source": [
        "#**Python Nested IF Statements**"
      ]
    },
    {
      "cell_type": "markdown",
      "metadata": {
        "id": "9AwH1F9NIiem"
      },
      "source": [
        "####Kita dapat membuat statement if...elif...else di dalam statement if...elif...else lainnya. Ini disebut sebagai nesting dalam computer programming .\n",
        "####Sejumlah pernyataan ini dapat bersarang( nesting ) di dalam satu sama lain. Indentasi adalah satu-satunya cara untuk mengetahui tingkat bersarang. Mereka bisa membingungkan, jadi mereka harus dihindari kecuali jika perlu."
      ]
    },
    {
      "cell_type": "markdown",
      "metadata": {
        "id": "1Gbem60BIuWQ"
      },
      "source": [
        "###**Example: Python NESTED IF Statement**\n"
      ]
    },
    {
      "cell_type": "code",
      "metadata": {
        "colab": {
          "base_uri": "https://localhost:8080/"
        },
        "id": "MKxv1eDgIzF_",
        "outputId": "280c3a37-9494-4024-d213-d0229a5d5fb4"
      },
      "source": [
        "# Program disusun untuk mengecek apakah angka merupakan bilangan positif, negatif atau nol \n",
        "# dan menampilkan tulisan yang sesuai\n",
        "angka = float(input(\"Masukkan angka: \"))\n",
        "if angka >= 0:\n",
        " if angka == 0:\n",
        "     print(\"Nol\")\n",
        " else:\n",
        "     print(\"Bilangan Positif\")\n",
        "else:\n",
        "     print(\"Bilangan Negatif\")\n"
      ],
      "execution_count": null,
      "outputs": [
        {
          "output_type": "stream",
          "name": "stdout",
          "text": [
            "Masukkan angka: 9\n",
            "Bilangan Positif\n"
          ]
        }
      ]
    },
    {
      "cell_type": "markdown",
      "metadata": {
        "id": "4iW7gvPYJDTd"
      },
      "source": [
        "#**Latihan**\n",
        "###1.) Buatlah sebuah fungsi \"Mahal_Diskon\" dengan ketentuan:\n",
        "####A. Input berupa data harga produk dengan tipe data numerik Tunggal\n",
        "####B. Kategori Input adalah \"Murah\" dan \"Mahal\", kemudian diskon ada 3 kategori \"10%\", \"20%\", dan \"40%\"\n",
        "####C. Output Pertama sebuah teks/string yang menyatakan \"Mahal\" atau \"Murah\" dan Keterangan \"Kamu Dapat Diskon ...\"\n",
        "####D. Output Kedua adalah harga yang perlu dibayarkan"
      ]
    },
    {
      "cell_type": "code",
      "metadata": {
        "colab": {
          "base_uri": "https://localhost:8080/"
        },
        "id": "X9WxRje9N8C_",
        "outputId": "c8b66b6f-6727-4ceb-868b-ec5acbaa40c0"
      },
      "source": [
        "jumlah = int(input(\"Masukkan jumlah barang  = \"))\n",
        "harga = int(input(\"Masukkan harga barang = \"))\n",
        "total = (jumlah * harga)\n",
        "print(\"Jumlah Total = \" , total)\n",
        "\n",
        "if total >= 350000:\n",
        "  diskon = total * (40/100)\n",
        "  print(\"Kamu Dapat Diskon 40%\")\n",
        "elif total >= 300000:\n",
        "  diskon = total * (20/100)\n",
        "  print(\"Kamu Dapat Diskon 20%\") \n",
        "elif total >= 200000:\n",
        "  diskon = total * (10/100)\n",
        "  print(\"Kamu Dapat Diskon 10%\")\n",
        "else:\n",
        "  diskon = total * (0/100)\n",
        "  print (\"Maaf Kamu Belum Dapat Diskon\")\n",
        "\n",
        "harga_diskon = total - diskon\n",
        "if harga_diskon > 200000:\n",
        "  print(\"Mahal\")\n",
        "else:\n",
        "  print(\"Murah\")\n",
        "print(\"Harga yang perlu dibayarkan = \" , harga_diskon)"
      ],
      "execution_count": null,
      "outputs": [
        {
          "output_type": "stream",
          "name": "stdout",
          "text": [
            "Masukkan jumlah barang  = 30\n",
            "Masukkan harga barang = 450000\n",
            "Jumlah Total =  13500000\n",
            "Kamu Dapat Diskon 40%\n",
            "Mahal\n",
            "Harga yang perlu dibayarkan =  8100000.0\n"
          ]
        }
      ]
    },
    {
      "cell_type": "markdown",
      "metadata": {
        "id": "iJYDpvqlN9wr"
      },
      "source": [
        "###2.) Diberi sebuah string, tulislah sebuah fungsi python untuk memeriksa apakah string tersebut merupakan palindrom atau bukan. Sebuah string dikatakan palindrom jika susunan terbalik dari string tersebut sama dengan string pada susunan awalnya. Misalnya, \"radar\" adalah palindrom, tetapi \"radix\" bukanlah palindrom."
      ]
    },
    {
      "cell_type": "code",
      "metadata": {
        "id": "P9DckVpwOEKL",
        "colab": {
          "base_uri": "https://localhost:8080/",
          "height": 0
        },
        "outputId": "e14c400c-dcf5-4ec3-e759-114684eee294"
      },
      "source": [
        "x = input(\"kata: \")\n",
        "y = len(x)\n",
        "kondisi = True\n",
        "for i in range (0,y):\n",
        "  if(kondisi):\n",
        "     a = y-(i+1)\n",
        "     if x[i] is x[a]:\n",
        "      kondisi= True\n",
        "  else:\n",
        "    kondisi = False\n",
        "if (kondisi):\n",
        "  print('Palindrom')\n",
        "else:\n",
        "  print('Bukan Palindrom')\n",
        "\n"
      ],
      "execution_count": 4,
      "outputs": [
        {
          "output_type": "stream",
          "name": "stdout",
          "text": [
            "kata: TAMAT\n",
            "Palindrom\n"
          ]
        }
      ]
    },
    {
      "cell_type": "markdown",
      "metadata": {
        "id": "8hthRqVPOE5I"
      },
      "source": [
        "###3.) Buatlah fungsi untuk menghitung diskon suatu pembayaran belanjaan dengan input berupa dictionary untuk daftar harga dan dictionary untuk daftar belanjaan!"
      ]
    },
    {
      "cell_type": "code",
      "metadata": {
        "colab": {
          "base_uri": "https://localhost:8080/",
          "height": 0
        },
        "id": "1KludjxVmb7Q",
        "outputId": "7c17fe40-74b8-4689-bfdd-8e90441552f9"
      },
      "source": [
        "daftar_harga ={'telur/kg':20000, 'gula_pasir/kg':16000, 'teh/bks':4000}\n",
        "daftar_belanjaan = {'telur':2, 'gula_pasir':5}\n",
        "\n",
        "def pembayaran(x,y):\n",
        "  jumlah = 0\n",
        "  for k in y:\n",
        "    if k==\"telur\":\n",
        "      jumlah = jumlah+(x[\"telur/kg\"]*y[k])\n",
        "    elif k==\"gula_pasir\":\n",
        "      jumlah = jumlah+(x[\"gula_pasir/kg\"]*y[k])\n",
        "    elif k==\"teh\":\n",
        "      jumlah = jumlah+(x[\"teh/bks\"]*y[k])\n",
        "    else:\n",
        "      jumlah = jumlah\n",
        "  return jumlah\n",
        "\n",
        "total_bayar = pembayaran(daftar_harga, daftar_belanjaan)\n",
        "print(total_bayar)"
      ],
      "execution_count": 11,
      "outputs": [
        {
          "output_type": "stream",
          "name": "stdout",
          "text": [
            "120000\n"
          ]
        }
      ]
    }
  ]
}