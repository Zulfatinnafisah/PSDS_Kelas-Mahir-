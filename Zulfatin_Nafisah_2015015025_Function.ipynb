{
  "nbformat": 4,
  "nbformat_minor": 0,
  "metadata": {
    "colab": {
      "name": "Zulfatin Nafisah_2015015025_Function.ipynb",
      "provenance": [],
      "collapsed_sections": [],
      "authorship_tag": "ABX9TyMCNYF+F2g2O0C8TzhabwKs",
      "include_colab_link": true
    },
    "kernelspec": {
      "name": "python3",
      "display_name": "Python 3"
    },
    "language_info": {
      "name": "python"
    }
  },
  "cells": [
    {
      "cell_type": "markdown",
      "metadata": {
        "id": "view-in-github",
        "colab_type": "text"
      },
      "source": [
        "<a href=\"https://colab.research.google.com/github/Zulfatinnafisah/PSDS_Kelas-Mahir-/blob/main/Zulfatin_Nafisah_2015015025_Function.ipynb\" target=\"_parent\"><img src=\"https://colab.research.google.com/assets/colab-badge.svg\" alt=\"Open In Colab\"/></a>"
      ]
    },
    {
      "cell_type": "markdown",
      "metadata": {
        "id": "GDWBPRbBKrFL"
      },
      "source": [
        "#**Pembuka**\n",
        "###Assalamu'alaikum warahmatullahi wabarakatuh. Puji syukur kehadirat Allah Subhana Wata'ala atas limpahan Rahmat dan HidayahNya kepada kita semua. Sholawat serta salam senantiasa tercurah limpahkan kepada baginda Muhammad Rasulullah Salallahualaihiwassalam.\n",
        "###Halo para **Pejuang Data**. Selamat berjumpa di pertemuan pertama Program Training **Algoritma Machine Learning** Kelas Mahir.\n",
        "###Pada pertemuan ini kamu akan belajar:\n",
        "####1. Fungsi Pada Python\n",
        "####2. Keyword & Argument\n",
        "####3. Membuat Fungsi Pada Python\n",
        "####4. Positional Argument & Keyword\n",
        "####5. Argument Default\n",
        "####6. Contoh User Defined Function\n",
        "####7. Latihan\n"
      ]
    },
    {
      "cell_type": "markdown",
      "metadata": {
        "id": "VVfXHBGJcvEu"
      },
      "source": [
        "#**Function**\n",
        "###Function adalah sebuah blok statemen yang hanya akan dijalankan saat ia dipanggil!\n"
      ]
    },
    {
      "cell_type": "code",
      "metadata": {
        "colab": {
          "base_uri": "https://localhost:8080/"
        },
        "id": "lLwNbObSdG2n",
        "outputId": "e46176c0-9bf6-4bcd-892a-58d20aa3bab8"
      },
      "source": [
        "genap = [2,4,6,8,10]\n",
        "len(genap)\n"
      ],
      "execution_count": null,
      "outputs": [
        {
          "output_type": "execute_result",
          "data": {
            "text/plain": [
              "5"
            ]
          },
          "metadata": {},
          "execution_count": 1
        }
      ]
    },
    {
      "cell_type": "code",
      "metadata": {
        "colab": {
          "base_uri": "https://localhost:8080/"
        },
        "id": "tGyHLveUdUt_",
        "outputId": "f3b00fa0-b708-4e8b-8e2b-d457e86d327a"
      },
      "source": [
        "print('Assalamualaikum Dunia')\n"
      ],
      "execution_count": null,
      "outputs": [
        {
          "output_type": "stream",
          "name": "stdout",
          "text": [
            "Assalamualaikum Dunia\n"
          ]
        }
      ]
    },
    {
      "cell_type": "markdown",
      "metadata": {
        "id": "d3Mr0ygeeG_N"
      },
      "source": [
        "#**Keyword & Argument!**\n",
        "###**Keyword/Parameter **: Variabel yang digunakan dalam deklarasi fungsi\n",
        "###**Argument** : Nilai yang diberikan saat pemanggilan fungsi"
      ]
    },
    {
      "cell_type": "code",
      "metadata": {
        "colab": {
          "base_uri": "https://localhost:8080/"
        },
        "id": "aQqNoz6rehQU",
        "outputId": "214a553f-08de-4e07-f42b-77468905ee38"
      },
      "source": [
        "# sep = keyword/argument\n",
        "# '-' = argument\n",
        "\n",
        "print('kata1', 'kata2', sep='/')"
      ],
      "execution_count": null,
      "outputs": [
        {
          "output_type": "stream",
          "name": "stdout",
          "text": [
            "kata1/kata2\n"
          ]
        }
      ]
    },
    {
      "cell_type": "markdown",
      "metadata": {
        "id": "mhpFuth9e8fE"
      },
      "source": [
        "#**Membuat Fungsi**\n",
        "###Python mengizinkan untuk mendeklarasikan fungsi dalam kode yang dituliskan yang dikenal dengan user defined function."
      ]
    },
    {
      "cell_type": "code",
      "metadata": {
        "id": "epVLGj4mhBB3"
      },
      "source": [
        "def nama_fungsi(argument):\n",
        "  pernyataan_1\n",
        "  ...\n",
        "  pernyataan_2\n",
        "  return nilai_keluaran"
      ],
      "execution_count": null,
      "outputs": []
    },
    {
      "cell_type": "code",
      "metadata": {
        "id": "Htw_fA3FhOMB"
      },
      "source": [
        "# Pendefinisian fungsi_kuadrat\n",
        "def fungsi_kuadrat(x):\n",
        "  hasil = x**2\n",
        "  return hasil"
      ],
      "execution_count": null,
      "outputs": []
    },
    {
      "cell_type": "code",
      "metadata": {
        "id": "Ejv_wpZyhe2N"
      },
      "source": [
        "# Alternatif pendefinisian fungsi_kuadrat\n",
        "def fungsi_kuadrat(x):\n",
        "  return x**2"
      ],
      "execution_count": null,
      "outputs": []
    },
    {
      "cell_type": "code",
      "metadata": {
        "colab": {
          "base_uri": "https://localhost:8080/"
        },
        "id": "8i25SoRxh2iD",
        "outputId": "7a7eb2fd-d83b-4460-d8ab-158fa4615d3f"
      },
      "source": [
        "# Pemanggilan fungsi_kuadrat\n",
        "fungsi_kuadrat(6)"
      ],
      "execution_count": null,
      "outputs": [
        {
          "output_type": "execute_result",
          "data": {
            "text/plain": [
              "36"
            ]
          },
          "metadata": {},
          "execution_count": 7
        }
      ]
    },
    {
      "cell_type": "markdown",
      "metadata": {
        "id": "ByCUORAuiBdF"
      },
      "source": [
        "# **Positional Argument & Keyword**\n"
      ]
    },
    {
      "cell_type": "markdown",
      "metadata": {
        "id": "NhTgtnF5ibVR"
      },
      "source": [
        "### Kita bisa menyatakan argumen sebagai positional argument atau keyword. Beberapa manfaat argumen kata kunci dapat berupa:\n",
        "1. Kita dapat menyebut argumen dengan nama mereka untuk memperjelas apa yang mereka wakili.\n",
        "2. Kita dapat mengatur ulang argumen dengan cara yang membuatnya paling mudah dibaca.\n"
      ]
    },
    {
      "cell_type": "code",
      "metadata": {
        "id": "tyJEjVguirJ_"
      },
      "source": [
        "# Mendefinisikan fungsi dengan beberapa argumen\n",
        "def tampilkan_kata(a,b,c):\n",
        "    print(a,b,c)"
      ],
      "execution_count": null,
      "outputs": []
    },
    {
      "cell_type": "code",
      "metadata": {
        "colab": {
          "base_uri": "https://localhost:8080/"
        },
        "id": "DXkjmINTkgVH",
        "outputId": "de2873f7-0226-44b0-93c4-95e349aa96a9"
      },
      "source": [
        "# Positional Arguments\n",
        "tampilkan_kata('aku','kau','dia')"
      ],
      "execution_count": null,
      "outputs": [
        {
          "output_type": "stream",
          "name": "stdout",
          "text": [
            "aku kau dia\n"
          ]
        }
      ]
    },
    {
      "cell_type": "code",
      "metadata": {
        "colab": {
          "base_uri": "https://localhost:8080/"
        },
        "id": "zJBmDnHgktmS",
        "outputId": "af4a85c1-3b56-47a3-c3d8-e346830e36e8"
      },
      "source": [
        "tampilkan_kata('kau','aku','dia')"
      ],
      "execution_count": null,
      "outputs": [
        {
          "output_type": "stream",
          "name": "stdout",
          "text": [
            "kau aku dia\n"
          ]
        }
      ]
    },
    {
      "cell_type": "code",
      "metadata": {
        "colab": {
          "base_uri": "https://localhost:8080/"
        },
        "id": "6EfDcBOPk5hi",
        "outputId": "edd0ed39-3890-4594-bf6b-a2ad14992398"
      },
      "source": [
        "# argumen berdasarkan keyword-nya\n",
        "tampilkan_kata(a='aku', b='kau', c='dia')\n",
        "tampilkan_kata(c='dia', b='kau', a='aku')"
      ],
      "execution_count": null,
      "outputs": [
        {
          "output_type": "stream",
          "name": "stdout",
          "text": [
            "aku kau dia\n",
            "aku kau dia\n"
          ]
        }
      ]
    },
    {
      "cell_type": "markdown",
      "metadata": {
        "id": "LsH0G9TIlJ5J"
      },
      "source": [
        "####Catatan : Jika sudah diberi kunci maka urutan tidak menjadi penting"
      ]
    },
    {
      "cell_type": "code",
      "metadata": {
        "colab": {
          "base_uri": "https://localhost:8080/"
        },
        "id": "8lASCwq5lTfp",
        "outputId": "a201f931-e3e8-4949-9a39-8c3914a64891"
      },
      "source": [
        "# campuran antara argumen posisi dan argumen kata kunci\n",
        "tampilkan_kata('aku', b='kau', c='dia')\n"
      ],
      "execution_count": null,
      "outputs": [
        {
          "output_type": "stream",
          "name": "stdout",
          "text": [
            "aku kau dia\n"
          ]
        }
      ]
    },
    {
      "cell_type": "markdown",
      "metadata": {
        "id": "GLUL9AmRlZAV"
      },
      "source": [
        "####Ini tidak diijinkan:\n",
        " 1. Positional argument setelah keyword argument\n",
        "\n",
        "    tampilkan_kata('aku', b='kau', 'dia')\n",
        "\n",
        " 2.Terdapat dua nilai untuk satu keyword argument yang sama\n",
        "\n",
        "    tampilkan_kata(1, b=2, a=3)"
      ]
    },
    {
      "cell_type": "markdown",
      "metadata": {
        "id": "fCZq8pv1pEhv"
      },
      "source": [
        "# **Argument Default**\n"
      ]
    },
    {
      "cell_type": "markdown",
      "metadata": {
        "id": "H5ILgXZ5pJ0A"
      },
      "source": [
        "###Fungsi dapat memiliki argumen default dengan nilai yang telah ditentukan sebelumnya. Argumen ini dapat ditinggalkan dan nilai default kemudian diteruskan ke fungsi, atau argumen dapat dirubah dengan nilai yang berbeda. Perhatikan bahwa argumen default harus ditentukan sebagai parameter terakhir dalam suatu fungsi."
      ]
    },
    {
      "cell_type": "code",
      "metadata": {
        "colab": {
          "base_uri": "https://localhost:8080/"
        },
        "id": "OK7yyFd6pb7w",
        "outputId": "05890ea0-4841-49e3-c051-709a4df6b054"
      },
      "source": [
        "# Argumen default\n",
        "def tampilkan_kata(a,b,c,d='sahabat'):\n",
        "    print(a,b,c,d)\n",
        "\n",
        "tampilkan_kata('aku','kau','dia')\n",
        "tampilkan_kata('aku',b='kau',c='dia',d='teman')"
      ],
      "execution_count": null,
      "outputs": [
        {
          "output_type": "stream",
          "name": "stdout",
          "text": [
            "aku kau dia sahabat\n",
            "aku kau dia teman\n"
          ]
        }
      ]
    },
    {
      "cell_type": "markdown",
      "metadata": {
        "id": "u4M9OxNEqUFn"
      },
      "source": [
        "###### Catatan : Argumen default harus diletakkan terakhir"
      ]
    },
    {
      "cell_type": "markdown",
      "metadata": {
        "id": "h28cshpjqdyu"
      },
      "source": [
        "# **Contoh User Defined Function**"
      ]
    },
    {
      "cell_type": "markdown",
      "metadata": {
        "id": "Nj5hCnuGqkd0"
      },
      "source": [
        "####**Contoh 1:**\n",
        "Penjumlahan 2 bilangan"
      ]
    },
    {
      "cell_type": "code",
      "metadata": {
        "colab": {
          "base_uri": "https://localhost:8080/"
        },
        "id": "ne3mTJb6qx35",
        "outputId": "4a8e5afd-ea1d-495a-88d8-fde8d80ed172"
      },
      "source": [
        "def penjumlahan(x, y):  # input\n",
        " a=x+y                  # proses\n",
        " return a               # output\n",
        " \n",
        "penjumlahan(1, 2)       # pemanggilan fungsi"
      ],
      "execution_count": null,
      "outputs": [
        {
          "output_type": "execute_result",
          "data": {
            "text/plain": [
              "3"
            ]
          },
          "metadata": {},
          "execution_count": 18
        }
      ]
    },
    {
      "cell_type": "markdown",
      "metadata": {
        "id": "PjdutjKrrBJn"
      },
      "source": [
        "####**Contoh 2:**\n",
        "Penjumlahan yang memungkinkan untuk tiga bilangan"
      ]
    },
    {
      "cell_type": "code",
      "metadata": {
        "colab": {
          "base_uri": "https://localhost:8080/"
        },
        "id": "lKLaSFodrLVq",
        "outputId": "7bd7db16-5193-4989-90dd-687aec1451f9"
      },
      "source": [
        "def penjumlahan(x,y,z=None):\n",
        " if (z==None):\n",
        "    return x+y\n",
        " else:\n",
        "    return x+y+z\n",
        "\n",
        "print(penjumlahan(1, 2))\n",
        "print(penjumlahan(1, 2, 3))\n"
      ],
      "execution_count": null,
      "outputs": [
        {
          "output_type": "stream",
          "name": "stdout",
          "text": [
            "3\n",
            "6\n"
          ]
        }
      ]
    },
    {
      "cell_type": "markdown",
      "metadata": {
        "id": "3LcoL6lZrZ5Y"
      },
      "source": [
        "#### **Contoh 3:**\n",
        "\n",
        "Menghitung luas dan keliling persegi"
      ]
    },
    {
      "cell_type": "code",
      "metadata": {
        "colab": {
          "base_uri": "https://localhost:8080/"
        },
        "id": "lDw5qzfZssLu",
        "outputId": "030e985d-134a-4785-ad8d-1b512783b8f4"
      },
      "source": [
        "def luas_dan_keliling_presegi(s):\n",
        "    luas = s**2\n",
        "    keliling = 4*s\n",
        "    return luas, keliling\n",
        "    \n",
        "luas, keliling = luas_dan_keliling_presegi(2)\n",
        "print('luas:', luas)\n",
        "print('keliling:', keliling)\n"
      ],
      "execution_count": null,
      "outputs": [
        {
          "output_type": "stream",
          "name": "stdout",
          "text": [
            "luas: 4\n",
            "keliling: 8\n"
          ]
        }
      ]
    },
    {
      "cell_type": "markdown",
      "metadata": {
        "id": "5WEKHoQQtB8P"
      },
      "source": [
        "#**Latihan**"
      ]
    },
    {
      "cell_type": "markdown",
      "metadata": {
        "id": "WTYdLGG3tKeI"
      },
      "source": [
        "###1. Buatlah sebuah fungsi untuk menghitung luas dan keliling lingkaran dengan input jari-jari!"
      ]
    },
    {
      "cell_type": "code",
      "metadata": {
        "colab": {
          "base_uri": "https://localhost:8080/"
        },
        "id": "lEv73TWBtV80",
        "outputId": "fd046f7d-4a5b-471f-8f66-154a7aead39f"
      },
      "source": [
        "def luas_dan_keliling_lingkaran(r):\n",
        "  luas = 3.14*(r**2)\n",
        "  keliling = 2*3.14*(r)\n",
        "  return luas, keliling\n",
        "\n",
        "luas, keliling = luas_dan_keliling_lingkaran(100)\n",
        "print('luas:',luas)\n",
        "luas, keliling = luas_dan_keliling_lingkaran(200)\n",
        "print('keliling:',keliling)"
      ],
      "execution_count": 1,
      "outputs": [
        {
          "output_type": "stream",
          "name": "stdout",
          "text": [
            "luas: 31400.0\n",
            "keliling: 1256.0\n"
          ]
        }
      ]
    },
    {
      "cell_type": "markdown",
      "metadata": {
        "id": "gjrKkSVCtcJV"
      },
      "source": [
        "###2. Buatlah sebuah fungsi untuk menggabungkan dua kata dalam bentuk string bebas menjadi satu kata tanpa spasi dengan huruf kecil"
      ]
    },
    {
      "cell_type": "code",
      "metadata": {
        "id": "Xkh3XUJfu73B"
      },
      "source": [
        "Contoh:\n",
        "    gabung_kata('TANGKUBAN', 'PeRaHu')\n",
        "Output:\n",
        "```python 'tangkubanperahu'"
      ],
      "execution_count": null,
      "outputs": []
    },
    {
      "cell_type": "code",
      "metadata": {
        "id": "4DW95lGRvCjg",
        "colab": {
          "base_uri": "https://localhost:8080/"
        },
        "outputId": "eb50522b-1a0e-4c5f-de85-a0761dd5087a"
      },
      "source": [
        "def gabung_kata(x,y):\n",
        "  print(x.lower(), y.lower(), sep=\"\")\n",
        "gabung_kata('TANGKUBAN','PeRaHu')"
      ],
      "execution_count": 9,
      "outputs": [
        {
          "output_type": "stream",
          "name": "stdout",
          "text": [
            "tangkubanperahu\n"
          ]
        }
      ]
    },
    {
      "cell_type": "markdown",
      "metadata": {
        "id": "5j_ooFpZvGL8"
      },
      "source": [
        "###3.Buatlah sebuah fungsi awal_akhir (list_input) untuk menukar elemen pertama pada sebuah list dengan elemen terakhir pada list yang sama!\n",
        "\n",
        "\n",
        "\n",
        "\n",
        "\n",
        "\n"
      ]
    },
    {
      "cell_type": "code",
      "metadata": {
        "id": "dsSl1w2gvYEU"
      },
      "source": [
        "# Contoh:\n",
        "      awal_akhir([1,2,3,4])\n",
        "# Output:\n",
        "'''python[4,2,3,1]"
      ],
      "execution_count": null,
      "outputs": []
    },
    {
      "cell_type": "code",
      "metadata": {
        "id": "g3Ak8cPdvv3E",
        "colab": {
          "base_uri": "https://localhost:8080/"
        },
        "outputId": "155f4e0e-790a-44ab-eb44-f149f639e977"
      },
      "source": [
        "def awal_akhir(x):\n",
        "  a,b=x.index(x[len(x)-1]), x.index(x[0])\n",
        "  x[a],x[b] = x[b],x[a]\n",
        "  return x\n",
        "awal_akhir([1,2,3,4])\n",
        "  "
      ],
      "execution_count": 13,
      "outputs": [
        {
          "output_type": "execute_result",
          "data": {
            "text/plain": [
              "[4, 2, 3, 1]"
            ]
          },
          "metadata": {},
          "execution_count": 13
        }
      ]
    }
  ]
}