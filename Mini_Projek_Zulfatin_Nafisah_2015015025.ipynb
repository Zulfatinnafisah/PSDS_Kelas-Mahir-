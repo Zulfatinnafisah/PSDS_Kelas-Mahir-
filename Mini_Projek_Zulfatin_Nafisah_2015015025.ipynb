{
  "nbformat": 4,
  "nbformat_minor": 0,
  "metadata": {
    "kernelspec": {
      "display_name": "Python 3",
      "language": "python",
      "name": "python3"
    },
    "language_info": {
      "codemirror_mode": {
        "name": "ipython",
        "version": 3
      },
      "file_extension": ".py",
      "mimetype": "text/x-python",
      "name": "python",
      "nbconvert_exporter": "python",
      "pygments_lexer": "ipython3",
      "version": "3.8.5"
    },
    "colab": {
      "name": "Mini Projek_Zulfatin Nafisah_2015015025.ipynb",
      "provenance": [],
      "collapsed_sections": [],
      "include_colab_link": true
    }
  },
  "cells": [
    {
      "cell_type": "markdown",
      "metadata": {
        "id": "view-in-github",
        "colab_type": "text"
      },
      "source": [
        "<a href=\"https://colab.research.google.com/github/Zulfatinnafisah/PSDS_Kelas-Mahir-/blob/main/Mini_Projek_Zulfatin_Nafisah_2015015025.ipynb\" target=\"_parent\"><img src=\"https://colab.research.google.com/assets/colab-badge.svg\" alt=\"Open In Colab\"/></a>"
      ]
    },
    {
      "cell_type": "markdown",
      "metadata": {
        "id": "7QZth6-tmuh7"
      },
      "source": [
        "# KNN With Various Distance Functions"
      ]
    },
    {
      "cell_type": "markdown",
      "metadata": {
        "id": "kz3w5PMQmuiF"
      },
      "source": [
        "### Import Library"
      ]
    },
    {
      "cell_type": "code",
      "metadata": {
        "id": "ht0NYYo6muiI"
      },
      "source": [
        "from matplotlib.colors import ListedColormap\n",
        "from sklearn import datasets                                 # Library for sample dataset\n",
        "from sklearn.model_selection import train_test_split         # Library for spliting data into training & testing\n",
        "from collections import Counter                              # Library for find most common elemen in the series\n",
        "import numpy as np                                           # library for numerical in python\n",
        "import pandas as pd\n",
        "import matplotlib.pyplot as plt\n",
        "import seaborn as sns\n",
        "import time"
      ],
      "execution_count": null,
      "outputs": []
    },
    {
      "cell_type": "markdown",
      "metadata": {
        "id": "2sxFGnB6muiL"
      },
      "source": [
        "## Load Dataset"
      ]
    },
    {
      "cell_type": "code",
      "metadata": {
        "id": "b9H9MJOvmuiM",
        "colab": {
          "base_uri": "https://localhost:8080/",
          "height": 1000
        },
        "outputId": "42cbc2c2-236b-417f-9673-d860100b7e4d"
      },
      "source": [
        "fruit = pd.read_csv('https://raw.githubusercontent.com/Zulfatinnafisah/PSDS_Kelas-Mahir-/main/fruit_data_with_colours.csv')\n",
        "fruit"
      ],
      "execution_count": null,
      "outputs": [
        {
          "output_type": "execute_result",
          "data": {
            "text/html": [
              "<div>\n",
              "<style scoped>\n",
              "    .dataframe tbody tr th:only-of-type {\n",
              "        vertical-align: middle;\n",
              "    }\n",
              "\n",
              "    .dataframe tbody tr th {\n",
              "        vertical-align: top;\n",
              "    }\n",
              "\n",
              "    .dataframe thead th {\n",
              "        text-align: right;\n",
              "    }\n",
              "</style>\n",
              "<table border=\"1\" class=\"dataframe\">\n",
              "  <thead>\n",
              "    <tr style=\"text-align: right;\">\n",
              "      <th></th>\n",
              "      <th>Unnamed: 0</th>\n",
              "      <th>fruit_label</th>\n",
              "      <th>fruit_name</th>\n",
              "      <th>fruit_subtype</th>\n",
              "      <th>mass</th>\n",
              "      <th>width</th>\n",
              "      <th>height</th>\n",
              "      <th>color_score</th>\n",
              "    </tr>\n",
              "  </thead>\n",
              "  <tbody>\n",
              "    <tr>\n",
              "      <th>0</th>\n",
              "      <td>0</td>\n",
              "      <td>1</td>\n",
              "      <td>apple</td>\n",
              "      <td>granny_smith</td>\n",
              "      <td>192</td>\n",
              "      <td>8.4</td>\n",
              "      <td>7.3</td>\n",
              "      <td>0.55</td>\n",
              "    </tr>\n",
              "    <tr>\n",
              "      <th>1</th>\n",
              "      <td>1</td>\n",
              "      <td>1</td>\n",
              "      <td>apple</td>\n",
              "      <td>granny_smith</td>\n",
              "      <td>180</td>\n",
              "      <td>8.0</td>\n",
              "      <td>6.8</td>\n",
              "      <td>0.59</td>\n",
              "    </tr>\n",
              "    <tr>\n",
              "      <th>2</th>\n",
              "      <td>2</td>\n",
              "      <td>1</td>\n",
              "      <td>apple</td>\n",
              "      <td>granny_smith</td>\n",
              "      <td>176</td>\n",
              "      <td>7.4</td>\n",
              "      <td>7.2</td>\n",
              "      <td>0.60</td>\n",
              "    </tr>\n",
              "    <tr>\n",
              "      <th>3</th>\n",
              "      <td>3</td>\n",
              "      <td>2</td>\n",
              "      <td>mandarin</td>\n",
              "      <td>mandarin</td>\n",
              "      <td>86</td>\n",
              "      <td>6.2</td>\n",
              "      <td>4.7</td>\n",
              "      <td>0.80</td>\n",
              "    </tr>\n",
              "    <tr>\n",
              "      <th>4</th>\n",
              "      <td>4</td>\n",
              "      <td>2</td>\n",
              "      <td>mandarin</td>\n",
              "      <td>mandarin</td>\n",
              "      <td>84</td>\n",
              "      <td>6.0</td>\n",
              "      <td>4.6</td>\n",
              "      <td>0.79</td>\n",
              "    </tr>\n",
              "    <tr>\n",
              "      <th>5</th>\n",
              "      <td>5</td>\n",
              "      <td>2</td>\n",
              "      <td>mandarin</td>\n",
              "      <td>mandarin</td>\n",
              "      <td>80</td>\n",
              "      <td>5.8</td>\n",
              "      <td>4.3</td>\n",
              "      <td>0.77</td>\n",
              "    </tr>\n",
              "    <tr>\n",
              "      <th>6</th>\n",
              "      <td>6</td>\n",
              "      <td>2</td>\n",
              "      <td>mandarin</td>\n",
              "      <td>mandarin</td>\n",
              "      <td>80</td>\n",
              "      <td>5.9</td>\n",
              "      <td>4.3</td>\n",
              "      <td>0.81</td>\n",
              "    </tr>\n",
              "    <tr>\n",
              "      <th>7</th>\n",
              "      <td>7</td>\n",
              "      <td>2</td>\n",
              "      <td>mandarin</td>\n",
              "      <td>mandarin</td>\n",
              "      <td>76</td>\n",
              "      <td>5.8</td>\n",
              "      <td>4.0</td>\n",
              "      <td>0.81</td>\n",
              "    </tr>\n",
              "    <tr>\n",
              "      <th>8</th>\n",
              "      <td>8</td>\n",
              "      <td>1</td>\n",
              "      <td>apple</td>\n",
              "      <td>braeburn</td>\n",
              "      <td>178</td>\n",
              "      <td>7.1</td>\n",
              "      <td>7.8</td>\n",
              "      <td>0.92</td>\n",
              "    </tr>\n",
              "    <tr>\n",
              "      <th>9</th>\n",
              "      <td>9</td>\n",
              "      <td>1</td>\n",
              "      <td>apple</td>\n",
              "      <td>braeburn</td>\n",
              "      <td>172</td>\n",
              "      <td>7.4</td>\n",
              "      <td>7.0</td>\n",
              "      <td>0.89</td>\n",
              "    </tr>\n",
              "    <tr>\n",
              "      <th>10</th>\n",
              "      <td>10</td>\n",
              "      <td>1</td>\n",
              "      <td>apple</td>\n",
              "      <td>braeburn</td>\n",
              "      <td>166</td>\n",
              "      <td>6.9</td>\n",
              "      <td>7.3</td>\n",
              "      <td>0.93</td>\n",
              "    </tr>\n",
              "    <tr>\n",
              "      <th>11</th>\n",
              "      <td>11</td>\n",
              "      <td>1</td>\n",
              "      <td>apple</td>\n",
              "      <td>braeburn</td>\n",
              "      <td>172</td>\n",
              "      <td>7.1</td>\n",
              "      <td>7.6</td>\n",
              "      <td>0.92</td>\n",
              "    </tr>\n",
              "    <tr>\n",
              "      <th>12</th>\n",
              "      <td>12</td>\n",
              "      <td>1</td>\n",
              "      <td>apple</td>\n",
              "      <td>braeburn</td>\n",
              "      <td>154</td>\n",
              "      <td>7.0</td>\n",
              "      <td>7.1</td>\n",
              "      <td>0.88</td>\n",
              "    </tr>\n",
              "    <tr>\n",
              "      <th>13</th>\n",
              "      <td>13</td>\n",
              "      <td>1</td>\n",
              "      <td>apple</td>\n",
              "      <td>golden_delicious</td>\n",
              "      <td>164</td>\n",
              "      <td>7.3</td>\n",
              "      <td>7.7</td>\n",
              "      <td>0.70</td>\n",
              "    </tr>\n",
              "    <tr>\n",
              "      <th>14</th>\n",
              "      <td>14</td>\n",
              "      <td>1</td>\n",
              "      <td>apple</td>\n",
              "      <td>golden_delicious</td>\n",
              "      <td>152</td>\n",
              "      <td>7.6</td>\n",
              "      <td>7.3</td>\n",
              "      <td>0.69</td>\n",
              "    </tr>\n",
              "    <tr>\n",
              "      <th>15</th>\n",
              "      <td>15</td>\n",
              "      <td>1</td>\n",
              "      <td>apple</td>\n",
              "      <td>golden_delicious</td>\n",
              "      <td>156</td>\n",
              "      <td>7.7</td>\n",
              "      <td>7.1</td>\n",
              "      <td>0.69</td>\n",
              "    </tr>\n",
              "    <tr>\n",
              "      <th>16</th>\n",
              "      <td>16</td>\n",
              "      <td>1</td>\n",
              "      <td>apple</td>\n",
              "      <td>golden_delicious</td>\n",
              "      <td>156</td>\n",
              "      <td>7.6</td>\n",
              "      <td>7.5</td>\n",
              "      <td>0.67</td>\n",
              "    </tr>\n",
              "    <tr>\n",
              "      <th>17</th>\n",
              "      <td>17</td>\n",
              "      <td>1</td>\n",
              "      <td>apple</td>\n",
              "      <td>golden_delicious</td>\n",
              "      <td>168</td>\n",
              "      <td>7.5</td>\n",
              "      <td>7.6</td>\n",
              "      <td>0.73</td>\n",
              "    </tr>\n",
              "    <tr>\n",
              "      <th>18</th>\n",
              "      <td>18</td>\n",
              "      <td>1</td>\n",
              "      <td>apple</td>\n",
              "      <td>cripps_pink</td>\n",
              "      <td>162</td>\n",
              "      <td>7.5</td>\n",
              "      <td>7.1</td>\n",
              "      <td>0.83</td>\n",
              "    </tr>\n",
              "    <tr>\n",
              "      <th>19</th>\n",
              "      <td>19</td>\n",
              "      <td>1</td>\n",
              "      <td>apple</td>\n",
              "      <td>cripps_pink</td>\n",
              "      <td>162</td>\n",
              "      <td>7.4</td>\n",
              "      <td>7.2</td>\n",
              "      <td>0.85</td>\n",
              "    </tr>\n",
              "    <tr>\n",
              "      <th>20</th>\n",
              "      <td>20</td>\n",
              "      <td>1</td>\n",
              "      <td>apple</td>\n",
              "      <td>cripps_pink</td>\n",
              "      <td>160</td>\n",
              "      <td>7.5</td>\n",
              "      <td>7.5</td>\n",
              "      <td>0.86</td>\n",
              "    </tr>\n",
              "    <tr>\n",
              "      <th>21</th>\n",
              "      <td>21</td>\n",
              "      <td>1</td>\n",
              "      <td>apple</td>\n",
              "      <td>cripps_pink</td>\n",
              "      <td>156</td>\n",
              "      <td>7.4</td>\n",
              "      <td>7.4</td>\n",
              "      <td>0.84</td>\n",
              "    </tr>\n",
              "    <tr>\n",
              "      <th>22</th>\n",
              "      <td>22</td>\n",
              "      <td>1</td>\n",
              "      <td>apple</td>\n",
              "      <td>cripps_pink</td>\n",
              "      <td>140</td>\n",
              "      <td>7.3</td>\n",
              "      <td>7.1</td>\n",
              "      <td>0.87</td>\n",
              "    </tr>\n",
              "    <tr>\n",
              "      <th>23</th>\n",
              "      <td>23</td>\n",
              "      <td>1</td>\n",
              "      <td>apple</td>\n",
              "      <td>cripps_pink</td>\n",
              "      <td>170</td>\n",
              "      <td>7.6</td>\n",
              "      <td>7.9</td>\n",
              "      <td>0.88</td>\n",
              "    </tr>\n",
              "    <tr>\n",
              "      <th>24</th>\n",
              "      <td>24</td>\n",
              "      <td>3</td>\n",
              "      <td>orange</td>\n",
              "      <td>spanish_jumbo</td>\n",
              "      <td>342</td>\n",
              "      <td>9.0</td>\n",
              "      <td>9.4</td>\n",
              "      <td>0.75</td>\n",
              "    </tr>\n",
              "    <tr>\n",
              "      <th>25</th>\n",
              "      <td>25</td>\n",
              "      <td>3</td>\n",
              "      <td>orange</td>\n",
              "      <td>spanish_jumbo</td>\n",
              "      <td>356</td>\n",
              "      <td>9.2</td>\n",
              "      <td>9.2</td>\n",
              "      <td>0.75</td>\n",
              "    </tr>\n",
              "    <tr>\n",
              "      <th>26</th>\n",
              "      <td>26</td>\n",
              "      <td>3</td>\n",
              "      <td>orange</td>\n",
              "      <td>spanish_jumbo</td>\n",
              "      <td>362</td>\n",
              "      <td>9.6</td>\n",
              "      <td>9.2</td>\n",
              "      <td>0.74</td>\n",
              "    </tr>\n",
              "    <tr>\n",
              "      <th>27</th>\n",
              "      <td>27</td>\n",
              "      <td>3</td>\n",
              "      <td>orange</td>\n",
              "      <td>selected_seconds</td>\n",
              "      <td>204</td>\n",
              "      <td>7.5</td>\n",
              "      <td>9.2</td>\n",
              "      <td>0.77</td>\n",
              "    </tr>\n",
              "    <tr>\n",
              "      <th>28</th>\n",
              "      <td>28</td>\n",
              "      <td>3</td>\n",
              "      <td>orange</td>\n",
              "      <td>selected_seconds</td>\n",
              "      <td>140</td>\n",
              "      <td>6.7</td>\n",
              "      <td>7.1</td>\n",
              "      <td>0.72</td>\n",
              "    </tr>\n",
              "    <tr>\n",
              "      <th>29</th>\n",
              "      <td>29</td>\n",
              "      <td>3</td>\n",
              "      <td>orange</td>\n",
              "      <td>selected_seconds</td>\n",
              "      <td>160</td>\n",
              "      <td>7.0</td>\n",
              "      <td>7.4</td>\n",
              "      <td>0.81</td>\n",
              "    </tr>\n",
              "    <tr>\n",
              "      <th>30</th>\n",
              "      <td>30</td>\n",
              "      <td>3</td>\n",
              "      <td>orange</td>\n",
              "      <td>selected_seconds</td>\n",
              "      <td>158</td>\n",
              "      <td>7.1</td>\n",
              "      <td>7.5</td>\n",
              "      <td>0.79</td>\n",
              "    </tr>\n",
              "    <tr>\n",
              "      <th>31</th>\n",
              "      <td>31</td>\n",
              "      <td>3</td>\n",
              "      <td>orange</td>\n",
              "      <td>selected_seconds</td>\n",
              "      <td>210</td>\n",
              "      <td>7.8</td>\n",
              "      <td>8.0</td>\n",
              "      <td>0.82</td>\n",
              "    </tr>\n",
              "    <tr>\n",
              "      <th>32</th>\n",
              "      <td>32</td>\n",
              "      <td>3</td>\n",
              "      <td>orange</td>\n",
              "      <td>selected_seconds</td>\n",
              "      <td>164</td>\n",
              "      <td>7.2</td>\n",
              "      <td>7.0</td>\n",
              "      <td>0.80</td>\n",
              "    </tr>\n",
              "    <tr>\n",
              "      <th>33</th>\n",
              "      <td>33</td>\n",
              "      <td>3</td>\n",
              "      <td>orange</td>\n",
              "      <td>turkey_navel</td>\n",
              "      <td>190</td>\n",
              "      <td>7.5</td>\n",
              "      <td>8.1</td>\n",
              "      <td>0.74</td>\n",
              "    </tr>\n",
              "    <tr>\n",
              "      <th>34</th>\n",
              "      <td>34</td>\n",
              "      <td>3</td>\n",
              "      <td>orange</td>\n",
              "      <td>turkey_navel</td>\n",
              "      <td>142</td>\n",
              "      <td>7.6</td>\n",
              "      <td>7.8</td>\n",
              "      <td>0.75</td>\n",
              "    </tr>\n",
              "    <tr>\n",
              "      <th>35</th>\n",
              "      <td>35</td>\n",
              "      <td>3</td>\n",
              "      <td>orange</td>\n",
              "      <td>turkey_navel</td>\n",
              "      <td>150</td>\n",
              "      <td>7.1</td>\n",
              "      <td>7.9</td>\n",
              "      <td>0.75</td>\n",
              "    </tr>\n",
              "    <tr>\n",
              "      <th>36</th>\n",
              "      <td>36</td>\n",
              "      <td>3</td>\n",
              "      <td>orange</td>\n",
              "      <td>turkey_navel</td>\n",
              "      <td>160</td>\n",
              "      <td>7.1</td>\n",
              "      <td>7.6</td>\n",
              "      <td>0.76</td>\n",
              "    </tr>\n",
              "    <tr>\n",
              "      <th>37</th>\n",
              "      <td>37</td>\n",
              "      <td>3</td>\n",
              "      <td>orange</td>\n",
              "      <td>turkey_navel</td>\n",
              "      <td>154</td>\n",
              "      <td>7.3</td>\n",
              "      <td>7.3</td>\n",
              "      <td>0.79</td>\n",
              "    </tr>\n",
              "    <tr>\n",
              "      <th>38</th>\n",
              "      <td>38</td>\n",
              "      <td>3</td>\n",
              "      <td>orange</td>\n",
              "      <td>turkey_navel</td>\n",
              "      <td>158</td>\n",
              "      <td>7.2</td>\n",
              "      <td>7.8</td>\n",
              "      <td>0.77</td>\n",
              "    </tr>\n",
              "    <tr>\n",
              "      <th>39</th>\n",
              "      <td>39</td>\n",
              "      <td>3</td>\n",
              "      <td>orange</td>\n",
              "      <td>turkey_navel</td>\n",
              "      <td>144</td>\n",
              "      <td>6.8</td>\n",
              "      <td>7.4</td>\n",
              "      <td>0.75</td>\n",
              "    </tr>\n",
              "    <tr>\n",
              "      <th>40</th>\n",
              "      <td>40</td>\n",
              "      <td>3</td>\n",
              "      <td>orange</td>\n",
              "      <td>turkey_navel</td>\n",
              "      <td>154</td>\n",
              "      <td>7.1</td>\n",
              "      <td>7.5</td>\n",
              "      <td>0.78</td>\n",
              "    </tr>\n",
              "    <tr>\n",
              "      <th>41</th>\n",
              "      <td>41</td>\n",
              "      <td>3</td>\n",
              "      <td>orange</td>\n",
              "      <td>turkey_navel</td>\n",
              "      <td>180</td>\n",
              "      <td>7.6</td>\n",
              "      <td>8.2</td>\n",
              "      <td>0.79</td>\n",
              "    </tr>\n",
              "    <tr>\n",
              "      <th>42</th>\n",
              "      <td>42</td>\n",
              "      <td>3</td>\n",
              "      <td>orange</td>\n",
              "      <td>turkey_navel</td>\n",
              "      <td>154</td>\n",
              "      <td>7.2</td>\n",
              "      <td>7.2</td>\n",
              "      <td>0.82</td>\n",
              "    </tr>\n",
              "    <tr>\n",
              "      <th>43</th>\n",
              "      <td>43</td>\n",
              "      <td>4</td>\n",
              "      <td>lemon</td>\n",
              "      <td>spanish_belsan</td>\n",
              "      <td>194</td>\n",
              "      <td>7.2</td>\n",
              "      <td>10.3</td>\n",
              "      <td>0.70</td>\n",
              "    </tr>\n",
              "    <tr>\n",
              "      <th>44</th>\n",
              "      <td>44</td>\n",
              "      <td>4</td>\n",
              "      <td>lemon</td>\n",
              "      <td>spanish_belsan</td>\n",
              "      <td>200</td>\n",
              "      <td>7.3</td>\n",
              "      <td>10.5</td>\n",
              "      <td>0.72</td>\n",
              "    </tr>\n",
              "    <tr>\n",
              "      <th>45</th>\n",
              "      <td>45</td>\n",
              "      <td>4</td>\n",
              "      <td>lemon</td>\n",
              "      <td>spanish_belsan</td>\n",
              "      <td>186</td>\n",
              "      <td>7.2</td>\n",
              "      <td>9.2</td>\n",
              "      <td>0.72</td>\n",
              "    </tr>\n",
              "    <tr>\n",
              "      <th>46</th>\n",
              "      <td>46</td>\n",
              "      <td>4</td>\n",
              "      <td>lemon</td>\n",
              "      <td>spanish_belsan</td>\n",
              "      <td>216</td>\n",
              "      <td>7.3</td>\n",
              "      <td>10.2</td>\n",
              "      <td>0.71</td>\n",
              "    </tr>\n",
              "    <tr>\n",
              "      <th>47</th>\n",
              "      <td>47</td>\n",
              "      <td>4</td>\n",
              "      <td>lemon</td>\n",
              "      <td>spanish_belsan</td>\n",
              "      <td>196</td>\n",
              "      <td>7.3</td>\n",
              "      <td>9.7</td>\n",
              "      <td>0.72</td>\n",
              "    </tr>\n",
              "    <tr>\n",
              "      <th>48</th>\n",
              "      <td>48</td>\n",
              "      <td>4</td>\n",
              "      <td>lemon</td>\n",
              "      <td>spanish_belsan</td>\n",
              "      <td>174</td>\n",
              "      <td>7.3</td>\n",
              "      <td>10.1</td>\n",
              "      <td>0.72</td>\n",
              "    </tr>\n",
              "    <tr>\n",
              "      <th>49</th>\n",
              "      <td>49</td>\n",
              "      <td>4</td>\n",
              "      <td>lemon</td>\n",
              "      <td>unknown</td>\n",
              "      <td>132</td>\n",
              "      <td>5.8</td>\n",
              "      <td>8.7</td>\n",
              "      <td>0.73</td>\n",
              "    </tr>\n",
              "    <tr>\n",
              "      <th>50</th>\n",
              "      <td>50</td>\n",
              "      <td>4</td>\n",
              "      <td>lemon</td>\n",
              "      <td>unknown</td>\n",
              "      <td>130</td>\n",
              "      <td>6.0</td>\n",
              "      <td>8.2</td>\n",
              "      <td>0.71</td>\n",
              "    </tr>\n",
              "    <tr>\n",
              "      <th>51</th>\n",
              "      <td>51</td>\n",
              "      <td>4</td>\n",
              "      <td>lemon</td>\n",
              "      <td>unknown</td>\n",
              "      <td>116</td>\n",
              "      <td>6.0</td>\n",
              "      <td>7.5</td>\n",
              "      <td>0.72</td>\n",
              "    </tr>\n",
              "    <tr>\n",
              "      <th>52</th>\n",
              "      <td>52</td>\n",
              "      <td>4</td>\n",
              "      <td>lemon</td>\n",
              "      <td>unknown</td>\n",
              "      <td>118</td>\n",
              "      <td>5.9</td>\n",
              "      <td>8.0</td>\n",
              "      <td>0.72</td>\n",
              "    </tr>\n",
              "    <tr>\n",
              "      <th>53</th>\n",
              "      <td>53</td>\n",
              "      <td>4</td>\n",
              "      <td>lemon</td>\n",
              "      <td>unknown</td>\n",
              "      <td>120</td>\n",
              "      <td>6.0</td>\n",
              "      <td>8.4</td>\n",
              "      <td>0.74</td>\n",
              "    </tr>\n",
              "    <tr>\n",
              "      <th>54</th>\n",
              "      <td>54</td>\n",
              "      <td>4</td>\n",
              "      <td>lemon</td>\n",
              "      <td>unknown</td>\n",
              "      <td>116</td>\n",
              "      <td>6.1</td>\n",
              "      <td>8.5</td>\n",
              "      <td>0.71</td>\n",
              "    </tr>\n",
              "    <tr>\n",
              "      <th>55</th>\n",
              "      <td>55</td>\n",
              "      <td>4</td>\n",
              "      <td>lemon</td>\n",
              "      <td>unknown</td>\n",
              "      <td>116</td>\n",
              "      <td>6.3</td>\n",
              "      <td>7.7</td>\n",
              "      <td>0.72</td>\n",
              "    </tr>\n",
              "    <tr>\n",
              "      <th>56</th>\n",
              "      <td>56</td>\n",
              "      <td>4</td>\n",
              "      <td>lemon</td>\n",
              "      <td>unknown</td>\n",
              "      <td>116</td>\n",
              "      <td>5.9</td>\n",
              "      <td>8.1</td>\n",
              "      <td>0.73</td>\n",
              "    </tr>\n",
              "    <tr>\n",
              "      <th>57</th>\n",
              "      <td>57</td>\n",
              "      <td>4</td>\n",
              "      <td>lemon</td>\n",
              "      <td>unknown</td>\n",
              "      <td>152</td>\n",
              "      <td>6.5</td>\n",
              "      <td>8.5</td>\n",
              "      <td>0.72</td>\n",
              "    </tr>\n",
              "    <tr>\n",
              "      <th>58</th>\n",
              "      <td>58</td>\n",
              "      <td>4</td>\n",
              "      <td>lemon</td>\n",
              "      <td>unknown</td>\n",
              "      <td>118</td>\n",
              "      <td>6.1</td>\n",
              "      <td>8.1</td>\n",
              "      <td>0.70</td>\n",
              "    </tr>\n",
              "  </tbody>\n",
              "</table>\n",
              "</div>"
            ],
            "text/plain": [
              "    Unnamed: 0  fruit_label fruit_name  ... width  height  color_score\n",
              "0            0            1      apple  ...   8.4     7.3         0.55\n",
              "1            1            1      apple  ...   8.0     6.8         0.59\n",
              "2            2            1      apple  ...   7.4     7.2         0.60\n",
              "3            3            2   mandarin  ...   6.2     4.7         0.80\n",
              "4            4            2   mandarin  ...   6.0     4.6         0.79\n",
              "5            5            2   mandarin  ...   5.8     4.3         0.77\n",
              "6            6            2   mandarin  ...   5.9     4.3         0.81\n",
              "7            7            2   mandarin  ...   5.8     4.0         0.81\n",
              "8            8            1      apple  ...   7.1     7.8         0.92\n",
              "9            9            1      apple  ...   7.4     7.0         0.89\n",
              "10          10            1      apple  ...   6.9     7.3         0.93\n",
              "11          11            1      apple  ...   7.1     7.6         0.92\n",
              "12          12            1      apple  ...   7.0     7.1         0.88\n",
              "13          13            1      apple  ...   7.3     7.7         0.70\n",
              "14          14            1      apple  ...   7.6     7.3         0.69\n",
              "15          15            1      apple  ...   7.7     7.1         0.69\n",
              "16          16            1      apple  ...   7.6     7.5         0.67\n",
              "17          17            1      apple  ...   7.5     7.6         0.73\n",
              "18          18            1      apple  ...   7.5     7.1         0.83\n",
              "19          19            1      apple  ...   7.4     7.2         0.85\n",
              "20          20            1      apple  ...   7.5     7.5         0.86\n",
              "21          21            1      apple  ...   7.4     7.4         0.84\n",
              "22          22            1      apple  ...   7.3     7.1         0.87\n",
              "23          23            1      apple  ...   7.6     7.9         0.88\n",
              "24          24            3     orange  ...   9.0     9.4         0.75\n",
              "25          25            3     orange  ...   9.2     9.2         0.75\n",
              "26          26            3     orange  ...   9.6     9.2         0.74\n",
              "27          27            3     orange  ...   7.5     9.2         0.77\n",
              "28          28            3     orange  ...   6.7     7.1         0.72\n",
              "29          29            3     orange  ...   7.0     7.4         0.81\n",
              "30          30            3     orange  ...   7.1     7.5         0.79\n",
              "31          31            3     orange  ...   7.8     8.0         0.82\n",
              "32          32            3     orange  ...   7.2     7.0         0.80\n",
              "33          33            3     orange  ...   7.5     8.1         0.74\n",
              "34          34            3     orange  ...   7.6     7.8         0.75\n",
              "35          35            3     orange  ...   7.1     7.9         0.75\n",
              "36          36            3     orange  ...   7.1     7.6         0.76\n",
              "37          37            3     orange  ...   7.3     7.3         0.79\n",
              "38          38            3     orange  ...   7.2     7.8         0.77\n",
              "39          39            3     orange  ...   6.8     7.4         0.75\n",
              "40          40            3     orange  ...   7.1     7.5         0.78\n",
              "41          41            3     orange  ...   7.6     8.2         0.79\n",
              "42          42            3     orange  ...   7.2     7.2         0.82\n",
              "43          43            4      lemon  ...   7.2    10.3         0.70\n",
              "44          44            4      lemon  ...   7.3    10.5         0.72\n",
              "45          45            4      lemon  ...   7.2     9.2         0.72\n",
              "46          46            4      lemon  ...   7.3    10.2         0.71\n",
              "47          47            4      lemon  ...   7.3     9.7         0.72\n",
              "48          48            4      lemon  ...   7.3    10.1         0.72\n",
              "49          49            4      lemon  ...   5.8     8.7         0.73\n",
              "50          50            4      lemon  ...   6.0     8.2         0.71\n",
              "51          51            4      lemon  ...   6.0     7.5         0.72\n",
              "52          52            4      lemon  ...   5.9     8.0         0.72\n",
              "53          53            4      lemon  ...   6.0     8.4         0.74\n",
              "54          54            4      lemon  ...   6.1     8.5         0.71\n",
              "55          55            4      lemon  ...   6.3     7.7         0.72\n",
              "56          56            4      lemon  ...   5.9     8.1         0.73\n",
              "57          57            4      lemon  ...   6.5     8.5         0.72\n",
              "58          58            4      lemon  ...   6.1     8.1         0.70\n",
              "\n",
              "[59 rows x 8 columns]"
            ]
          },
          "metadata": {},
          "execution_count": 2
        }
      ]
    },
    {
      "cell_type": "code",
      "metadata": {
        "id": "mYR3g2x3muiO"
      },
      "source": [
        "# Spliting data into variable X and y\n",
        "X = np.array(fruit[['mass','width','height','color_score']])\n",
        "y = np.array(fruit['fruit_label'])"
      ],
      "execution_count": null,
      "outputs": []
    },
    {
      "cell_type": "markdown",
      "metadata": {
        "id": "hHOFn66HmuiP"
      },
      "source": [
        "## Data Preprocessing"
      ]
    },
    {
      "cell_type": "code",
      "metadata": {
        "id": "dgNQowYwmuiR"
      },
      "source": [
        "# Split the data into training and testing part\n",
        "X_latih, X_uji, y_latih, y_uji = train_test_split(X, y, test_size=0.20, random_state=1234)"
      ],
      "execution_count": null,
      "outputs": []
    },
    {
      "cell_type": "markdown",
      "metadata": {
        "id": "LCDKbkzHmuiT"
      },
      "source": [
        "## Build Function"
      ]
    },
    {
      "cell_type": "markdown",
      "metadata": {
        "id": "s-ylOKIumuiU"
      },
      "source": [
        "### Distance Function"
      ]
    },
    {
      "cell_type": "code",
      "metadata": {
        "id": "y47hPW2_muiU"
      },
      "source": [
        "import scipy.spatial.distance as dst"
      ],
      "execution_count": null,
      "outputs": []
    },
    {
      "cell_type": "code",
      "metadata": {
        "id": "IPWmgw3zmuiV",
        "colab": {
          "base_uri": "https://localhost:8080/"
        },
        "outputId": "b46055b5-c504-4f8e-87f1-c2c63d97d13e"
      },
      "source": [
        "# Euclidean Distance\n",
        "dst.euclidean([0,0], [1,1])"
      ],
      "execution_count": null,
      "outputs": [
        {
          "output_type": "execute_result",
          "data": {
            "text/plain": [
              "1.4142135623730951"
            ]
          },
          "metadata": {},
          "execution_count": 7
        }
      ]
    },
    {
      "cell_type": "code",
      "metadata": {
        "id": "JZMdQFZ2muiZ",
        "colab": {
          "base_uri": "https://localhost:8080/"
        },
        "outputId": "90ecfd61-877f-44f5-c752-6bbf1eb90e00"
      },
      "source": [
        "# Manhattan/Cityblock Distance\n",
        "dst.cityblock([0,0], [1,1])"
      ],
      "execution_count": null,
      "outputs": [
        {
          "output_type": "execute_result",
          "data": {
            "text/plain": [
              "2"
            ]
          },
          "metadata": {},
          "execution_count": 8
        }
      ]
    },
    {
      "cell_type": "code",
      "metadata": {
        "id": "BW9zxoI0muia",
        "colab": {
          "base_uri": "https://localhost:8080/"
        },
        "outputId": "124bdf52-d107-47d7-df26-8691d0ed087c"
      },
      "source": [
        "# Minkowski Distance\n",
        "dst.minkowski([0,0], [1,1])"
      ],
      "execution_count": null,
      "outputs": [
        {
          "output_type": "execute_result",
          "data": {
            "text/plain": [
              "1.4142135623730951"
            ]
          },
          "metadata": {},
          "execution_count": 9
        }
      ]
    },
    {
      "cell_type": "code",
      "metadata": {
        "id": "Ju3VZuVkmuic",
        "colab": {
          "base_uri": "https://localhost:8080/"
        },
        "outputId": "4df59cde-7cb5-4abe-96df-300f08d378e9"
      },
      "source": [
        "# Chebisev Distance\n",
        "dst.chebyshev([0,0], [1,1])"
      ],
      "execution_count": null,
      "outputs": [
        {
          "output_type": "execute_result",
          "data": {
            "text/plain": [
              "1"
            ]
          },
          "metadata": {},
          "execution_count": 10
        }
      ]
    },
    {
      "cell_type": "code",
      "metadata": {
        "id": "_dZLvZFKmuid",
        "colab": {
          "base_uri": "https://localhost:8080/"
        },
        "outputId": "9afb205b-3ae4-40f0-91c8-06f866224706"
      },
      "source": [
        "# Bray Curtis Distance\n",
        "dst.braycurtis([0,0], [1,1])"
      ],
      "execution_count": null,
      "outputs": [
        {
          "output_type": "execute_result",
          "data": {
            "text/plain": [
              "1.0"
            ]
          },
          "metadata": {},
          "execution_count": 11
        }
      ]
    },
    {
      "cell_type": "code",
      "metadata": {
        "id": "WOP17WYMmuie",
        "colab": {
          "base_uri": "https://localhost:8080/"
        },
        "outputId": "aa51cb8c-c335-4e54-b2f1-ac8b1900a90a"
      },
      "source": [
        "# Canberra Distance\n",
        "dst.canberra([0,0], [1,1])"
      ],
      "execution_count": null,
      "outputs": [
        {
          "output_type": "execute_result",
          "data": {
            "text/plain": [
              "2.0"
            ]
          },
          "metadata": {},
          "execution_count": 12
        }
      ]
    },
    {
      "cell_type": "markdown",
      "metadata": {
        "id": "AKQ_HtRbmuif"
      },
      "source": [
        "### KNN Function"
      ]
    },
    {
      "cell_type": "code",
      "metadata": {
        "id": "u6OTdkeomuif"
      },
      "source": [
        "def _knn_euclidean(x):\n",
        "    # Menghitung jarak antara x baru dengan semua sampel di data latih\n",
        "    jarak = [dst.euclidean(x, x_latih) for x_latih in X_latih]\n",
        "    # Mengurutkan data dan mengambil sejumlah k objek\n",
        "    k_idx = np.argsort(jarak)[: k]\n",
        "    # Mengambil kelas dari k tetangga terdekat dari data latih\n",
        "    k_neighbor_labels = [y_latih[i] for i in k_idx]\n",
        "    # Mengambil kelas yang paling sering muncul\n",
        "    kelas_paling_banyak = Counter(k_neighbor_labels).most_common(1)\n",
        "    return kelas_paling_banyak[0][0]\n",
        "\n",
        "def KNN_euclidean(X_latih, y_latih, k, x_baru):\n",
        "    y_pred= [_knn_euclidean(x_i) for x_i in x_baru]\n",
        "    return np.array(y_pred)"
      ],
      "execution_count": null,
      "outputs": []
    },
    {
      "cell_type": "code",
      "metadata": {
        "id": "B4KqlN87muig"
      },
      "source": [
        "def _knn_cityblock(x):\n",
        "    # Menghitung jarak antara x baru dengan semua sampel di data latih\n",
        "    jarak = [dst.cityblock(x, x_latih) for x_latih in X_latih]\n",
        "    # Mengurutkan data dan mengambil sejumlah k objek\n",
        "    k_idx = np.argsort(jarak)[: k]\n",
        "    # Mengambil kelas dari k tetangga terdekat dari data latih\n",
        "    k_neighbor_labels = [y_latih[i] for i in k_idx]\n",
        "    # Mengambil kelas yang paling sering muncul\n",
        "    kelas_paling_banyak = Counter(k_neighbor_labels).most_common(1)\n",
        "    return kelas_paling_banyak[0][0]\n",
        "\n",
        "def KNN_cityblock(X_latih, y_latih, k, x_baru):\n",
        "    y_pred= [_knn_cityblock(x_i) for x_i in x_baru]\n",
        "    return np.array(y_pred)"
      ],
      "execution_count": null,
      "outputs": []
    },
    {
      "cell_type": "code",
      "metadata": {
        "id": "CWLGHntpmuih"
      },
      "source": [
        "def _knn_minkowski(x):\n",
        "    # Menghitung jarak antara x baru dengan semua sampel di data latih\n",
        "    jarak = [dst.minkowski(x, x_latih) for x_latih in X_latih]\n",
        "    # Mengurutkan data dan mengambil sejumlah k objek\n",
        "    k_idx = np.argsort(jarak)[: k]\n",
        "    # Mengambil kelas dari k tetangga terdekat dari data latih\n",
        "    k_neighbor_labels = [y_latih[i] for i in k_idx]\n",
        "    # Mengambil kelas yang paling sering muncul\n",
        "    kelas_paling_banyak = Counter(k_neighbor_labels).most_common(1)\n",
        "    return kelas_paling_banyak[0][0]\n",
        "\n",
        "def KNN_minkowski(X_latih, y_latih, k, x_baru):\n",
        "    y_pred= [_knn_minkowski(x_i) for x_i in x_baru]\n",
        "    return np.array(y_pred)"
      ],
      "execution_count": null,
      "outputs": []
    },
    {
      "cell_type": "code",
      "metadata": {
        "id": "ds_9JVQLmuii"
      },
      "source": [
        "def _knn_chebyshev(x):\n",
        "    # Menghitung jarak antara x baru dengan semua sampel di data latih\n",
        "    jarak = [dst.chebyshev(x, x_latih) for x_latih in X_latih]\n",
        "    # Mengurutkan data dan mengambil sejumlah k objek\n",
        "    k_idx = np.argsort(jarak)[: k]\n",
        "    # Mengambil kelas dari k tetangga terdekat dari data latih\n",
        "    k_neighbor_labels = [y_latih[i] for i in k_idx]\n",
        "    # Mengambil kelas yang paling sering muncul\n",
        "    kelas_paling_banyak = Counter(k_neighbor_labels).most_common(1)\n",
        "    return kelas_paling_banyak[0][0]\n",
        "\n",
        "def KNN_chebyshev(X_latih, y_latih, k, x_baru):\n",
        "    y_pred= [_knn_chebyshev(x_i) for x_i in x_baru]\n",
        "    return np.array(y_pred)"
      ],
      "execution_count": null,
      "outputs": []
    },
    {
      "cell_type": "code",
      "metadata": {
        "id": "6svetXe8muij"
      },
      "source": [
        "def _knn_braycurtis(x):\n",
        "    # Menghitung jarak antara x baru dengan semua sampel di data latih\n",
        "    jarak = [dst.braycurtis(x, x_latih) for x_latih in X_latih]\n",
        "    # Mengurutkan data dan mengambil sejumlah k objek\n",
        "    k_idx = np.argsort(jarak)[: k]\n",
        "    # Mengambil kelas dari k tetangga terdekat dari data latih\n",
        "    k_neighbor_labels = [y_latih[i] for i in k_idx]\n",
        "    # Mengambil kelas yang paling sering muncul\n",
        "    kelas_paling_banyak = Counter(k_neighbor_labels).most_common(1)\n",
        "    return kelas_paling_banyak[0][0]\n",
        "\n",
        "def KNN_braycurtis(X_latih, y_latih, k, x_baru):\n",
        "    y_pred= [_knn_braycurtis(x_i) for x_i in x_baru]\n",
        "    return np.array(y_pred)"
      ],
      "execution_count": null,
      "outputs": []
    },
    {
      "cell_type": "code",
      "metadata": {
        "id": "T_9A9nq5muik"
      },
      "source": [
        "def _knn_canberra(x):\n",
        "    # Menghitung jarak antara x baru dengan semua sampel di data latih\n",
        "    jarak = [dst.canberra(x, x_latih) for x_latih in X_latih]\n",
        "    # Mengurutkan data dan mengambil sejumlah k objek\n",
        "    k_idx = np.argsort(jarak)[: k]\n",
        "    # Mengambil kelas dari k tetangga terdekat dari data latih\n",
        "    k_neighbor_labels = [y_latih[i] for i in k_idx]\n",
        "    # Mengambil kelas yang paling sering muncul\n",
        "    kelas_paling_banyak = Counter(k_neighbor_labels).most_common(1)\n",
        "    return kelas_paling_banyak[0][0]\n",
        "\n",
        "def KNN_canberra(X_latih, y_latih, k, x_baru):\n",
        "    y_pred= [_knn_canberra(x_i) for x_i in x_baru]\n",
        "    return np.array(y_pred)"
      ],
      "execution_count": null,
      "outputs": []
    },
    {
      "cell_type": "markdown",
      "metadata": {
        "id": "210twbnPmuik"
      },
      "source": [
        "### Evaluation Function"
      ]
    },
    {
      "cell_type": "code",
      "metadata": {
        "id": "FLtMRNTcmuil"
      },
      "source": [
        "from sklearn.metrics import accuracy_score\n",
        "from sklearn.metrics import precision_score\n",
        "from sklearn.metrics import recall_score\n",
        "from sklearn.metrics import f1_score"
      ],
      "execution_count": null,
      "outputs": []
    },
    {
      "cell_type": "markdown",
      "metadata": {
        "id": "ZKVr9it2muil"
      },
      "source": [
        "### Plot Function"
      ]
    },
    {
      "cell_type": "code",
      "metadata": {
        "id": "zOLWpB2_muil"
      },
      "source": [
        "def bar_plot(df, evalf):\n",
        "\n",
        "    # Memilih tema plot\n",
        "    sns.set_theme(style=\"whitegrid\")\n",
        "\n",
        "    # Membuat sebuah figure dan sebuah axes\n",
        "    fig, ax=plt.subplots(figsize=(10,8)) # figsize=(x,y) untuk menentukan ukuran gambar\n",
        "\n",
        "    # Melakukan bar plot\n",
        "    ax = sns.barplot(data=df,               # Nama DataFrame\n",
        "                     y=evalf,               # Data sumbu Y\n",
        "                     x=df.index             # Data sumbu X\n",
        "\n",
        "                    )\n",
        "    for bar in ax.patches:\n",
        "        ax.annotate(format(bar.get_height(), '.2f'),\n",
        "                   (bar.get_x() + bar.get_width() / 2,\n",
        "                    bar.get_height()), ha='center', va='center',\n",
        "                   size=15, xytext=(0, 8),\n",
        "                   textcoords='offset points')\n",
        "    # Mengatur sudut rotasi label stepsize sumbu x\n",
        "    plt.xticks(rotation=80)\n",
        "\n",
        "    # Mengganti label sumbu x\n",
        "    ax.set_xlabel('distance')\n",
        "\n",
        "    # Mengganti label sumbu y\n",
        "    ax.set_ylabel('{} score'.format(evalf))\n",
        "\n",
        "    # Mengatur Judul Gambar\n",
        "    ax.set_title('Evaluation Score of KNN with Various Distance', fontsize=16, fontweight='bold')\n",
        "\n",
        "    # Menampilkan Gambar\n",
        "    plt.show()"
      ],
      "execution_count": null,
      "outputs": []
    },
    {
      "cell_type": "markdown",
      "metadata": {
        "id": "gd9UpM0Umuim"
      },
      "source": [
        "## Experimentations"
      ]
    },
    {
      "cell_type": "code",
      "metadata": {
        "id": "n5S7tC3jmuin"
      },
      "source": [
        "# Parameter\n",
        "k=2"
      ],
      "execution_count": null,
      "outputs": []
    },
    {
      "cell_type": "code",
      "metadata": {
        "id": "IGeHc7iBmuio",
        "colab": {
          "base_uri": "https://localhost:8080/"
        },
        "outputId": "ce76ddfc-7c6c-4c4c-88ba-dd3e390209e6"
      },
      "source": [
        "# KNN Euclidean Distance\n",
        "start = time.time()\n",
        "y_pred=KNN_euclidean(X_latih, y_latih, k, X_uji)\n",
        "finish = time.time()\n",
        "time_comp = finish-start\n",
        "# Evaluation\n",
        "euclidean =[accuracy_score(y_uji, y_pred),\n",
        "           precision_score(y_uji, y_pred, average='weighted'),\n",
        "           recall_score(y_uji, y_pred, average='weighted'),\n",
        "           f1_score(y_uji, y_pred, average='weighted'),\n",
        "           time_comp]\n",
        "euclidean "
      ],
      "execution_count": null,
      "outputs": [
        {
          "output_type": "execute_result",
          "data": {
            "text/plain": [
              "[0.5833333333333334,\n",
              " 0.611111111111111,\n",
              " 0.5833333333333334,\n",
              " 0.5785714285714286,\n",
              " 0.009521484375]"
            ]
          },
          "metadata": {},
          "execution_count": 22
        }
      ]
    },
    {
      "cell_type": "code",
      "metadata": {
        "id": "WJVtQf0rmuip",
        "colab": {
          "base_uri": "https://localhost:8080/"
        },
        "outputId": "30d3bcd7-3cc2-4501-d386-77fcef342582"
      },
      "source": [
        "# KNN Manhattan/City Block Distance\n",
        "start = time.time()\n",
        "y_pred=KNN_cityblock(X_latih, y_latih, k, X_uji)\n",
        "finish = time.time()\n",
        "time_comp = finish-start\n",
        "# Evaluation\n",
        "manhattan =[accuracy_score(y_uji, y_pred),\n",
        "           precision_score(y_uji, y_pred, average='weighted'),\n",
        "           recall_score(y_uji, y_pred, average='weighted'),\n",
        "           f1_score(y_uji, y_pred, average='weighted'),\n",
        "           time_comp]\n",
        "manhattan "
      ],
      "execution_count": null,
      "outputs": [
        {
          "output_type": "execute_result",
          "data": {
            "text/plain": [
              "[0.5833333333333334,\n",
              " 0.611111111111111,\n",
              " 0.5833333333333334,\n",
              " 0.5785714285714286,\n",
              " 0.011666297912597656]"
            ]
          },
          "metadata": {},
          "execution_count": 23
        }
      ]
    },
    {
      "cell_type": "code",
      "metadata": {
        "id": "AJk_aKY-muiq",
        "colab": {
          "base_uri": "https://localhost:8080/"
        },
        "outputId": "44ae19f7-7f37-44c1-f574-a680726d7012"
      },
      "source": [
        "# KNN Minkowski Distance\n",
        "start = time.time()\n",
        "y_pred=KNN_minkowski(X_latih, y_latih, k, X_uji)\n",
        "finish = time.time()\n",
        "time_comp = finish-start\n",
        "# Evaluation\n",
        "minkowski =[accuracy_score(y_uji, y_pred),\n",
        "           precision_score(y_uji, y_pred, average='weighted'),\n",
        "           recall_score(y_uji, y_pred, average='weighted'),\n",
        "           f1_score(y_uji, y_pred, average='weighted'),\n",
        "           time_comp]\n",
        "minkowski"
      ],
      "execution_count": null,
      "outputs": [
        {
          "output_type": "execute_result",
          "data": {
            "text/plain": [
              "[0.5833333333333334,\n",
              " 0.611111111111111,\n",
              " 0.5833333333333334,\n",
              " 0.5785714285714286,\n",
              " 0.01376032829284668]"
            ]
          },
          "metadata": {},
          "execution_count": 24
        }
      ]
    },
    {
      "cell_type": "code",
      "metadata": {
        "id": "tJCcrrw9muiq",
        "colab": {
          "base_uri": "https://localhost:8080/"
        },
        "outputId": "192f6a4f-9ed2-470c-8990-13cb499ec9c4"
      },
      "source": [
        "# KNN Chebyshev Distance\n",
        "start = time.time()\n",
        "y_pred=KNN_chebyshev(X_latih, y_latih, k, X_uji)\n",
        "finish = time.time()\n",
        "time_comp = finish-start\n",
        "# Evaluation\n",
        "chebyshev =[accuracy_score(y_uji, y_pred),\n",
        "           precision_score(y_uji, y_pred, average='weighted'),\n",
        "           recall_score(y_uji, y_pred, average='weighted'),\n",
        "           f1_score(y_uji, y_pred, average='weighted'),\n",
        "           time_comp]\n",
        "chebyshev"
      ],
      "execution_count": null,
      "outputs": [
        {
          "output_type": "execute_result",
          "data": {
            "text/plain": [
              "[0.5833333333333334,\n",
              " 0.611111111111111,\n",
              " 0.5833333333333334,\n",
              " 0.5785714285714286,\n",
              " 0.0053043365478515625]"
            ]
          },
          "metadata": {},
          "execution_count": 25
        }
      ]
    },
    {
      "cell_type": "code",
      "metadata": {
        "id": "tXZ6H5OHmuir",
        "colab": {
          "base_uri": "https://localhost:8080/"
        },
        "outputId": "45319ea4-67cd-4bad-a4ac-952757dac4d6"
      },
      "source": [
        "# KNN Bray Curtis Distance\n",
        "start = time.time()\n",
        "y_pred=KNN_braycurtis(X_latih, y_latih, k, X_uji)\n",
        "finish = time.time()\n",
        "time_comp = finish-start\n",
        "# Evaluation\n",
        "braycurtis =[accuracy_score(y_uji, y_pred),\n",
        "           precision_score(y_uji, y_pred, average='weighted'),\n",
        "           recall_score(y_uji, y_pred, average='weighted'),\n",
        "           f1_score(y_uji, y_pred, average='weighted'),\n",
        "           time_comp]\n",
        "braycurtis"
      ],
      "execution_count": null,
      "outputs": [
        {
          "output_type": "execute_result",
          "data": {
            "text/plain": [
              "[0.5833333333333334,\n",
              " 0.611111111111111,\n",
              " 0.5833333333333334,\n",
              " 0.5785714285714286,\n",
              " 0.009521722793579102]"
            ]
          },
          "metadata": {},
          "execution_count": 26
        }
      ]
    },
    {
      "cell_type": "code",
      "metadata": {
        "id": "w9jbWov3muis",
        "colab": {
          "base_uri": "https://localhost:8080/"
        },
        "outputId": "a654bad5-20cd-4c98-84ad-a04e323a0b7c"
      },
      "source": [
        "# KNN Canberra Distance\n",
        "start = time.time()\n",
        "y_pred=KNN_canberra(X_latih, y_latih, k, X_uji)\n",
        "finish = time.time()\n",
        "time_comp = finish-start\n",
        "# Evaluation\n",
        "canberra =[accuracy_score(y_uji, y_pred),\n",
        "           precision_score(y_uji, y_pred, average='weighted'),\n",
        "           recall_score(y_uji, y_pred, average='weighted'),\n",
        "           f1_score(y_uji, y_pred, average='weighted'),\n",
        "           time_comp]\n",
        "canberra"
      ],
      "execution_count": null,
      "outputs": [
        {
          "output_type": "execute_result",
          "data": {
            "text/plain": [
              "[1.0, 1.0, 1.0, 1.0, 0.0332646369934082]"
            ]
          },
          "metadata": {},
          "execution_count": 27
        }
      ]
    },
    {
      "cell_type": "markdown",
      "metadata": {
        "id": "uXye1iyGmuis"
      },
      "source": [
        "### Evaluation"
      ]
    },
    {
      "cell_type": "code",
      "metadata": {
        "id": "6B-rWOf7muit",
        "colab": {
          "base_uri": "https://localhost:8080/",
          "height": 232
        },
        "outputId": "073834ba-7407-424c-e4af-e9b0dce6d453"
      },
      "source": [
        "df = pd.DataFrame([euclidean,\n",
        "                  manhattan,\n",
        "                  minkowski,\n",
        "                  chebyshev,\n",
        "                  braycurtis,\n",
        "                  canberra], \n",
        "                  columns = ['accuracy','precision', 'recall', 'f1', 'time'],\n",
        "                 index = ['euclidean', 'manhattan', 'minkowski', 'chebyshev', 'braycurtis', 'canberra'])\n",
        "df"
      ],
      "execution_count": null,
      "outputs": [
        {
          "output_type": "execute_result",
          "data": {
            "text/html": [
              "<div>\n",
              "<style scoped>\n",
              "    .dataframe tbody tr th:only-of-type {\n",
              "        vertical-align: middle;\n",
              "    }\n",
              "\n",
              "    .dataframe tbody tr th {\n",
              "        vertical-align: top;\n",
              "    }\n",
              "\n",
              "    .dataframe thead th {\n",
              "        text-align: right;\n",
              "    }\n",
              "</style>\n",
              "<table border=\"1\" class=\"dataframe\">\n",
              "  <thead>\n",
              "    <tr style=\"text-align: right;\">\n",
              "      <th></th>\n",
              "      <th>accuracy</th>\n",
              "      <th>precision</th>\n",
              "      <th>recall</th>\n",
              "      <th>f1</th>\n",
              "      <th>time</th>\n",
              "    </tr>\n",
              "  </thead>\n",
              "  <tbody>\n",
              "    <tr>\n",
              "      <th>euclidean</th>\n",
              "      <td>0.583333</td>\n",
              "      <td>0.611111</td>\n",
              "      <td>0.583333</td>\n",
              "      <td>0.578571</td>\n",
              "      <td>0.009521</td>\n",
              "    </tr>\n",
              "    <tr>\n",
              "      <th>manhattan</th>\n",
              "      <td>0.583333</td>\n",
              "      <td>0.611111</td>\n",
              "      <td>0.583333</td>\n",
              "      <td>0.578571</td>\n",
              "      <td>0.011666</td>\n",
              "    </tr>\n",
              "    <tr>\n",
              "      <th>minkowski</th>\n",
              "      <td>0.583333</td>\n",
              "      <td>0.611111</td>\n",
              "      <td>0.583333</td>\n",
              "      <td>0.578571</td>\n",
              "      <td>0.013760</td>\n",
              "    </tr>\n",
              "    <tr>\n",
              "      <th>chebyshev</th>\n",
              "      <td>0.583333</td>\n",
              "      <td>0.611111</td>\n",
              "      <td>0.583333</td>\n",
              "      <td>0.578571</td>\n",
              "      <td>0.005304</td>\n",
              "    </tr>\n",
              "    <tr>\n",
              "      <th>braycurtis</th>\n",
              "      <td>0.583333</td>\n",
              "      <td>0.611111</td>\n",
              "      <td>0.583333</td>\n",
              "      <td>0.578571</td>\n",
              "      <td>0.009522</td>\n",
              "    </tr>\n",
              "    <tr>\n",
              "      <th>canberra</th>\n",
              "      <td>1.000000</td>\n",
              "      <td>1.000000</td>\n",
              "      <td>1.000000</td>\n",
              "      <td>1.000000</td>\n",
              "      <td>0.033265</td>\n",
              "    </tr>\n",
              "  </tbody>\n",
              "</table>\n",
              "</div>"
            ],
            "text/plain": [
              "            accuracy  precision    recall        f1      time\n",
              "euclidean   0.583333   0.611111  0.583333  0.578571  0.009521\n",
              "manhattan   0.583333   0.611111  0.583333  0.578571  0.011666\n",
              "minkowski   0.583333   0.611111  0.583333  0.578571  0.013760\n",
              "chebyshev   0.583333   0.611111  0.583333  0.578571  0.005304\n",
              "braycurtis  0.583333   0.611111  0.583333  0.578571  0.009522\n",
              "canberra    1.000000   1.000000  1.000000  1.000000  0.033265"
            ]
          },
          "metadata": {},
          "execution_count": 28
        }
      ]
    },
    {
      "cell_type": "markdown",
      "metadata": {
        "id": "cwDETF1umuit"
      },
      "source": [
        "### Visualization"
      ]
    },
    {
      "cell_type": "code",
      "metadata": {
        "scrolled": true,
        "id": "PVLYw7GSmuit",
        "colab": {
          "base_uri": "https://localhost:8080/",
          "height": 572
        },
        "outputId": "cd59a4c3-54c2-479b-8ebe-607d9a63efc6"
      },
      "source": [
        "bar_plot(df, 'accuracy')"
      ],
      "execution_count": null,
      "outputs": [
        {
          "output_type": "display_data",
          "data": {
            "image/png": "[encoded data removed]",
            "text/plain": [
              "<Figure size 720x576 with 1 Axes>"
            ]
          },
          "metadata": {}
        }
      ]
    },
    {
      "cell_type": "code",
      "metadata": {
        "id": "gE-BWUOXmuiu",
        "colab": {
          "base_uri": "https://localhost:8080/",
          "height": 572
        },
        "outputId": "659fa0a9-2bbe-4c91-ba09-38914e9086cb"
      },
      "source": [
        "bar_plot(df, 'precision')"
      ],
      "execution_count": null,
      "outputs": [
        {
          "output_type": "display_data",
          "data": {
            "image/png": "[encoded data removed]",
            "text/plain": [
              "<Figure size 720x576 with 1 Axes>"
            ]
          },
          "metadata": {}
        }
      ]
    },
    {
      "cell_type": "code",
      "metadata": {
        "id": "r0eWM1a4muiu",
        "colab": {
          "base_uri": "https://localhost:8080/",
          "height": 572
        },
        "outputId": "d2551db5-5b83-43df-cbab-d81d2c222d73"
      },
      "source": [
        "bar_plot(df, 'recall')"
      ],
      "execution_count": null,
      "outputs": [
        {
          "output_type": "display_data",
          "data": {
            "image/png": "[encoded data removed]",
            "text/plain": [
              "<Figure size 720x576 with 1 Axes>"
            ]
          },
          "metadata": {}
        }
      ]
    },
    {
      "cell_type": "code",
      "metadata": {
        "id": "pOuUhzENmuiv",
        "colab": {
          "base_uri": "https://localhost:8080/",
          "height": 572
        },
        "outputId": "5409aa08-106c-407b-feec-0ac29162fa0d"
      },
      "source": [
        "bar_plot(df, 'f1')"
      ],
      "execution_count": null,
      "outputs": [
        {
          "output_type": "display_data",
          "data": {
            "image/png": "[encoded data removed]",
            "text/plain": [
              "<Figure size 720x576 with 1 Axes>"
            ]
          },
          "metadata": {}
        }
      ]
    },
    {
      "cell_type": "code",
      "metadata": {
        "scrolled": true,
        "id": "eVvt4F3Fmuiv",
        "colab": {
          "base_uri": "https://localhost:8080/",
          "height": 572
        },
        "outputId": "6cbb300a-2e6c-4d4f-a004-3da1f62a75e6"
      },
      "source": [
        "bar_plot(df, 'time')"
      ],
      "execution_count": null,
      "outputs": [
        {
          "output_type": "display_data",
          "data": {
            "image/png": "[encoded data removed]",
            "text/plain": [
              "<Figure size 720x576 with 1 Axes>"
            ]
          },
          "metadata": {}
        }
      ]
    },
    {
      "cell_type": "markdown",
      "metadata": {
        "id": "E3qtr5jWwhyk"
      },
      "source": [
        "#Conclusion\n",
        "\n",
        "Dari dataset fruit diperoleh nilai accuracy, precision, recall, f1 score yang tertinggi pada model KNN yaitu pada jarak canberra, sehingga jarak canberra pada kasus ini tergolong lebih baik daripada lima jarak lainnya. Tetapi, jarak canberra memiliki kelemahan pada nilai time score. Untuk nilai time score yang tertinggi pada model KNN yaitu pada jarak chebyshev."
      ]
    }
  ]
}